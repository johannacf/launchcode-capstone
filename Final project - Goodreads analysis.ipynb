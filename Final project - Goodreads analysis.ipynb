{
 "cells": [
  {
   "cell_type": "markdown",
   "id": "cd76ba12",
   "metadata": {
    "azdata_cell_guid": "151601c9-ca7a-412e-af80-c62a87e0837e"
   },
   "source": [
    "# Checkpoint Two: Exploratory Data Analysis\n",
    "\n",
    "Now that your chosen dataset is approved, it is time to start working on your analysis. Use this notebook to perform your EDA and make notes where directed to as you work.\n",
    "\n",
    "## Getting Started\n",
    "\n",
    "Since we have not provided your dataset for you, you will need to load the necessary files in this repository. Make sure to include a link back to the original dataset here as well.\n",
    "\n",
    "My dataset: https://www.kaggle.com/datasets/ishikajohari/best-books-10k-multi-genre-data?resource=download\n",
    "\n",
    "Your first task in EDA is to import necessary libraries and create a dataframe(s). Make note in the form of code comments of what your thought process is as you work on this setup task."
   ]
  },
  {
   "cell_type": "code",
   "execution_count": 1,
   "id": "a2bbc79d",
   "metadata": {
    "azdata_cell_guid": "7b503e37-6df5-4433-acfb-678b1346db14"
   },
   "outputs": [],
   "source": [
    "#importing all the libraries necessary for EDA and data visualization later down the road\n",
    "import pandas as pd\n",
    "import numpy as np\n",
    "import seaborn as sns\n",
    "import matplotlib.pyplot as plt\n",
    "from matplotlib import style\n",
    "\n",
    "df = pd.read_csv(\"goodreads_data.csv\")"
   ]
  },
  {
   "cell_type": "code",
   "execution_count": 2,
   "id": "9c6d5526",
   "metadata": {},
   "outputs": [
    {
     "data": {
      "text/html": [
       "<div>\n",
       "<style scoped>\n",
       "    .dataframe tbody tr th:only-of-type {\n",
       "        vertical-align: middle;\n",
       "    }\n",
       "\n",
       "    .dataframe tbody tr th {\n",
       "        vertical-align: top;\n",
       "    }\n",
       "\n",
       "    .dataframe thead th {\n",
       "        text-align: right;\n",
       "    }\n",
       "</style>\n",
       "<table border=\"1\" class=\"dataframe\">\n",
       "  <thead>\n",
       "    <tr style=\"text-align: right;\">\n",
       "      <th></th>\n",
       "      <th>Unnamed: 0</th>\n",
       "      <th>Book</th>\n",
       "      <th>Author</th>\n",
       "      <th>Description</th>\n",
       "      <th>Genres</th>\n",
       "      <th>Avg_Rating</th>\n",
       "      <th>Num_Ratings</th>\n",
       "      <th>URL</th>\n",
       "    </tr>\n",
       "  </thead>\n",
       "  <tbody>\n",
       "    <tr>\n",
       "      <th>0</th>\n",
       "      <td>0</td>\n",
       "      <td>To Kill a Mockingbird</td>\n",
       "      <td>Harper Lee</td>\n",
       "      <td>The unforgettable novel of a childhood in a sl...</td>\n",
       "      <td>['Classics', 'Fiction', 'Historical Fiction', ...</td>\n",
       "      <td>4.27</td>\n",
       "      <td>5,691,311</td>\n",
       "      <td>https://www.goodreads.com/book/show/2657.To_Ki...</td>\n",
       "    </tr>\n",
       "    <tr>\n",
       "      <th>1</th>\n",
       "      <td>1</td>\n",
       "      <td>Harry Potter and the Philosopher’s Stone (Harr...</td>\n",
       "      <td>J.K. Rowling</td>\n",
       "      <td>Harry Potter thinks he is an ordinary boy - un...</td>\n",
       "      <td>['Fantasy', 'Fiction', 'Young Adult', 'Magic',...</td>\n",
       "      <td>4.47</td>\n",
       "      <td>9,278,135</td>\n",
       "      <td>https://www.goodreads.com/book/show/72193.Harr...</td>\n",
       "    </tr>\n",
       "    <tr>\n",
       "      <th>2</th>\n",
       "      <td>2</td>\n",
       "      <td>Pride and Prejudice</td>\n",
       "      <td>Jane Austen</td>\n",
       "      <td>Since its immediate success in 1813, Pride and...</td>\n",
       "      <td>['Classics', 'Fiction', 'Romance', 'Historical...</td>\n",
       "      <td>4.28</td>\n",
       "      <td>3,944,155</td>\n",
       "      <td>https://www.goodreads.com/book/show/1885.Pride...</td>\n",
       "    </tr>\n",
       "    <tr>\n",
       "      <th>3</th>\n",
       "      <td>3</td>\n",
       "      <td>The Diary of a Young Girl</td>\n",
       "      <td>Anne Frank</td>\n",
       "      <td>Discovered in the attic in which she spent the...</td>\n",
       "      <td>['Classics', 'Nonfiction', 'History', 'Biograp...</td>\n",
       "      <td>4.18</td>\n",
       "      <td>3,488,438</td>\n",
       "      <td>https://www.goodreads.com/book/show/48855.The_...</td>\n",
       "    </tr>\n",
       "    <tr>\n",
       "      <th>4</th>\n",
       "      <td>4</td>\n",
       "      <td>Animal Farm</td>\n",
       "      <td>George Orwell</td>\n",
       "      <td>Librarian's note: There is an Alternate Cover ...</td>\n",
       "      <td>['Classics', 'Fiction', 'Dystopia', 'Fantasy',...</td>\n",
       "      <td>3.98</td>\n",
       "      <td>3,575,172</td>\n",
       "      <td>https://www.goodreads.com/book/show/170448.Ani...</td>\n",
       "    </tr>\n",
       "  </tbody>\n",
       "</table>\n",
       "</div>"
      ],
      "text/plain": [
       "   Unnamed: 0                                               Book  \\\n",
       "0           0                              To Kill a Mockingbird   \n",
       "1           1  Harry Potter and the Philosopher’s Stone (Harr...   \n",
       "2           2                                Pride and Prejudice   \n",
       "3           3                          The Diary of a Young Girl   \n",
       "4           4                                        Animal Farm   \n",
       "\n",
       "          Author                                        Description  \\\n",
       "0     Harper Lee  The unforgettable novel of a childhood in a sl...   \n",
       "1   J.K. Rowling  Harry Potter thinks he is an ordinary boy - un...   \n",
       "2    Jane Austen  Since its immediate success in 1813, Pride and...   \n",
       "3     Anne Frank  Discovered in the attic in which she spent the...   \n",
       "4  George Orwell  Librarian's note: There is an Alternate Cover ...   \n",
       "\n",
       "                                              Genres  Avg_Rating Num_Ratings  \\\n",
       "0  ['Classics', 'Fiction', 'Historical Fiction', ...        4.27   5,691,311   \n",
       "1  ['Fantasy', 'Fiction', 'Young Adult', 'Magic',...        4.47   9,278,135   \n",
       "2  ['Classics', 'Fiction', 'Romance', 'Historical...        4.28   3,944,155   \n",
       "3  ['Classics', 'Nonfiction', 'History', 'Biograp...        4.18   3,488,438   \n",
       "4  ['Classics', 'Fiction', 'Dystopia', 'Fantasy',...        3.98   3,575,172   \n",
       "\n",
       "                                                 URL  \n",
       "0  https://www.goodreads.com/book/show/2657.To_Ki...  \n",
       "1  https://www.goodreads.com/book/show/72193.Harr...  \n",
       "2  https://www.goodreads.com/book/show/1885.Pride...  \n",
       "3  https://www.goodreads.com/book/show/48855.The_...  \n",
       "4  https://www.goodreads.com/book/show/170448.Ani...  "
      ]
     },
     "execution_count": 2,
     "metadata": {},
     "output_type": "execute_result"
    }
   ],
   "source": [
    "df.head()"
   ]
  },
  {
   "cell_type": "markdown",
   "id": "f2cba23b",
   "metadata": {
    "azdata_cell_guid": "129ce836-524b-4ea8-b394-a959f9308d6a"
   },
   "source": [
    "## Get to Know the Numbers\n",
    "\n",
    "Now that you have everything setup, put any code that you use to get to know the dataframe and its rows and columns better in the cell below. You can use whatever techniques you like, except for visualizations. You will put those in a separate section.\n",
    "\n",
    "When working on your code, make sure to leave comments so that your mentors can understand your thought process."
   ]
  },
  {
   "cell_type": "code",
   "execution_count": 3,
   "id": "26382ef7",
   "metadata": {},
   "outputs": [
    {
     "name": "stdout",
     "output_type": "stream",
     "text": [
      "<class 'pandas.core.frame.DataFrame'>\n",
      "RangeIndex: 10000 entries, 0 to 9999\n",
      "Data columns (total 8 columns):\n",
      " #   Column       Non-Null Count  Dtype  \n",
      "---  ------       --------------  -----  \n",
      " 0   Unnamed: 0   10000 non-null  int64  \n",
      " 1   Book         10000 non-null  object \n",
      " 2   Author       10000 non-null  object \n",
      " 3   Description  9923 non-null   object \n",
      " 4   Genres       10000 non-null  object \n",
      " 5   Avg_Rating   10000 non-null  float64\n",
      " 6   Num_Ratings  10000 non-null  object \n",
      " 7   URL          10000 non-null  object \n",
      "dtypes: float64(1), int64(1), object(6)\n",
      "memory usage: 625.1+ KB\n"
     ]
    }
   ],
   "source": [
    "df.info()"
   ]
  },
  {
   "cell_type": "code",
   "execution_count": 4,
   "id": "ac4325f3",
   "metadata": {
    "azdata_cell_guid": "0ca2d318-f6e8-43ef-a33e-5304d24d928d",
    "scrolled": true,
    "tags": []
   },
   "outputs": [
    {
     "data": {
      "text/plain": [
       "Index(['Unnamed: 0', 'Book', 'Author', 'Description', 'Genres', 'Avg_Rating',\n",
       "       'Num_Ratings', 'URL'],\n",
       "      dtype='object')"
      ]
     },
     "execution_count": 4,
     "metadata": {},
     "output_type": "execute_result"
    }
   ],
   "source": [
    "#print the columns\n",
    "df.columns"
   ]
  },
  {
   "cell_type": "code",
   "execution_count": 5,
   "id": "0bf5429f",
   "metadata": {},
   "outputs": [],
   "source": [
    "#rename the 'Unnamed' column\n",
    "df = df.rename(columns={'Unnamed: 0':'ID'})"
   ]
  },
  {
   "cell_type": "code",
   "execution_count": 6,
   "id": "fe7fdf73",
   "metadata": {
    "scrolled": false
   },
   "outputs": [
    {
     "data": {
      "text/plain": [
       "Index(['ID', 'Book', 'Author', 'Description', 'Genres', 'Avg_Rating',\n",
       "       'Num_Ratings', 'URL'],\n",
       "      dtype='object')"
      ]
     },
     "execution_count": 6,
     "metadata": {},
     "output_type": "execute_result"
    }
   ],
   "source": [
    "df.columns"
   ]
  },
  {
   "cell_type": "code",
   "execution_count": 7,
   "id": "9510871b",
   "metadata": {},
   "outputs": [
    {
     "data": {
      "text/plain": [
       "(10000, 8)"
      ]
     },
     "execution_count": 7,
     "metadata": {},
     "output_type": "execute_result"
    }
   ],
   "source": [
    "# check the size of df\n",
    "df.shape"
   ]
  },
  {
   "cell_type": "code",
   "execution_count": 8,
   "id": "173fb552",
   "metadata": {
    "scrolled": true
   },
   "outputs": [
    {
     "name": "stdout",
     "output_type": "stream",
     "text": [
      "Number of duplicated rows:  (0, 8)\n"
     ]
    }
   ],
   "source": [
    "# check for duplicates\n",
    "duplicate_rows_df = df[df.duplicated()]\n",
    "print(\"Number of duplicated rows: \", duplicate_rows_df.shape)"
   ]
  },
  {
   "cell_type": "code",
   "execution_count": 9,
   "id": "10df5896",
   "metadata": {},
   "outputs": [
    {
     "data": {
      "text/plain": [
       "count    10000.000000\n",
       "mean         4.068577\n",
       "std          0.335359\n",
       "min          0.000000\n",
       "25%          3.880000\n",
       "50%          4.080000\n",
       "75%          4.260000\n",
       "max          5.000000\n",
       "Name: Avg_Rating, dtype: float64"
      ]
     },
     "execution_count": 9,
     "metadata": {},
     "output_type": "execute_result"
    }
   ],
   "source": [
    "# what's the avg rating of the data set?\n",
    "df[\"Avg_Rating\"].describe()"
   ]
  },
  {
   "cell_type": "code",
   "execution_count": 10,
   "id": "fca78d6f",
   "metadata": {
    "scrolled": true
   },
   "outputs": [],
   "source": [
    "#which book has the highest rating?\n",
    "top_books = (df[df.Avg_Rating == df.Avg_Rating.max()])"
   ]
  },
  {
   "cell_type": "code",
   "execution_count": 11,
   "id": "4e8b623d",
   "metadata": {
    "scrolled": true
   },
   "outputs": [
    {
     "data": {
      "text/plain": [
       "(120, 8)"
      ]
     },
     "execution_count": 11,
     "metadata": {},
     "output_type": "execute_result"
    }
   ],
   "source": [
    "# how many?\n",
    "top_books.shape"
   ]
  },
  {
   "cell_type": "code",
   "execution_count": 12,
   "id": "696ad1bc",
   "metadata": {},
   "outputs": [
    {
     "data": {
      "text/html": [
       "<div>\n",
       "<style scoped>\n",
       "    .dataframe tbody tr th:only-of-type {\n",
       "        vertical-align: middle;\n",
       "    }\n",
       "\n",
       "    .dataframe tbody tr th {\n",
       "        vertical-align: top;\n",
       "    }\n",
       "\n",
       "    .dataframe thead th {\n",
       "        text-align: right;\n",
       "    }\n",
       "</style>\n",
       "<table border=\"1\" class=\"dataframe\">\n",
       "  <thead>\n",
       "    <tr style=\"text-align: right;\">\n",
       "      <th></th>\n",
       "      <th>ID</th>\n",
       "      <th>Book</th>\n",
       "      <th>Author</th>\n",
       "      <th>Description</th>\n",
       "      <th>Genres</th>\n",
       "      <th>Avg_Rating</th>\n",
       "      <th>Num_Ratings</th>\n",
       "      <th>URL</th>\n",
       "    </tr>\n",
       "  </thead>\n",
       "  <tbody>\n",
       "    <tr>\n",
       "      <th>3737</th>\n",
       "      <td>3737</td>\n",
       "      <td>Joey Wheeler: The Official Character &amp; Monster...</td>\n",
       "      <td>Arthur \"Sam\" Murakami</td>\n",
       "      <td>\"Check out this official character and monster...</td>\n",
       "      <td>[]</td>\n",
       "      <td>5.0</td>\n",
       "      <td>2</td>\n",
       "      <td>https://www.goodreads.com/book/show/2114514.Jo...</td>\n",
       "    </tr>\n",
       "    <tr>\n",
       "      <th>4603</th>\n",
       "      <td>4603</td>\n",
       "      <td>This Land of Streams: Spiritual, Friendship, R...</td>\n",
       "      <td>Maria Johnsen</td>\n",
       "      <td>You will find within this book Maria Johnsen's...</td>\n",
       "      <td>[]</td>\n",
       "      <td>5.0</td>\n",
       "      <td>11</td>\n",
       "      <td>https://www.goodreads.com/book/show/20773953-t...</td>\n",
       "    </tr>\n",
       "    <tr>\n",
       "      <th>4824</th>\n",
       "      <td>4824</td>\n",
       "      <td>Ama Dios (4 AoL Consciousness Books Combined, ...</td>\n",
       "      <td>Nataša Pantović</td>\n",
       "      <td>Ama Dios, 4 AoL Consciousness Books Combined.A...</td>\n",
       "      <td>['Philosophy', 'Spirituality', 'Adult']</td>\n",
       "      <td>5.0</td>\n",
       "      <td>6</td>\n",
       "      <td>https://www.goodreads.com/book/show/44015366-a...</td>\n",
       "    </tr>\n",
       "    <tr>\n",
       "      <th>5809</th>\n",
       "      <td>5809</td>\n",
       "      <td>The Secrets of Albion Falls (The Secrets Serie...</td>\n",
       "      <td>Sass Cadeaux</td>\n",
       "      <td>Living a sequestered life in magical village n...</td>\n",
       "      <td>[]</td>\n",
       "      <td>5.0</td>\n",
       "      <td>23</td>\n",
       "      <td>https://www.goodreads.com/book/show/17310646-t...</td>\n",
       "    </tr>\n",
       "    <tr>\n",
       "      <th>5843</th>\n",
       "      <td>5843</td>\n",
       "      <td>Eclavarda Rising</td>\n",
       "      <td>Stephen Christiansen</td>\n",
       "      <td>NaN</td>\n",
       "      <td>[]</td>\n",
       "      <td>5.0</td>\n",
       "      <td>2</td>\n",
       "      <td>https://www.goodreads.com/book/show/23353186-e...</td>\n",
       "    </tr>\n",
       "  </tbody>\n",
       "</table>\n",
       "</div>"
      ],
      "text/plain": [
       "        ID                                               Book  \\\n",
       "3737  3737  Joey Wheeler: The Official Character & Monster...   \n",
       "4603  4603  This Land of Streams: Spiritual, Friendship, R...   \n",
       "4824  4824  Ama Dios (4 AoL Consciousness Books Combined, ...   \n",
       "5809  5809  The Secrets of Albion Falls (The Secrets Serie...   \n",
       "5843  5843                                   Eclavarda Rising   \n",
       "\n",
       "                     Author  \\\n",
       "3737  Arthur \"Sam\" Murakami   \n",
       "4603          Maria Johnsen   \n",
       "4824        Nataša Pantović   \n",
       "5809           Sass Cadeaux   \n",
       "5843   Stephen Christiansen   \n",
       "\n",
       "                                            Description  \\\n",
       "3737  \"Check out this official character and monster...   \n",
       "4603  You will find within this book Maria Johnsen's...   \n",
       "4824  Ama Dios, 4 AoL Consciousness Books Combined.A...   \n",
       "5809  Living a sequestered life in magical village n...   \n",
       "5843                                                NaN   \n",
       "\n",
       "                                       Genres  Avg_Rating Num_Ratings  \\\n",
       "3737                                       []         5.0           2   \n",
       "4603                                       []         5.0          11   \n",
       "4824  ['Philosophy', 'Spirituality', 'Adult']         5.0           6   \n",
       "5809                                       []         5.0          23   \n",
       "5843                                       []         5.0           2   \n",
       "\n",
       "                                                    URL  \n",
       "3737  https://www.goodreads.com/book/show/2114514.Jo...  \n",
       "4603  https://www.goodreads.com/book/show/20773953-t...  \n",
       "4824  https://www.goodreads.com/book/show/44015366-a...  \n",
       "5809  https://www.goodreads.com/book/show/17310646-t...  \n",
       "5843  https://www.goodreads.com/book/show/23353186-e...  "
      ]
     },
     "execution_count": 12,
     "metadata": {},
     "output_type": "execute_result"
    }
   ],
   "source": [
    "top_books.head()"
   ]
  },
  {
   "cell_type": "markdown",
   "id": "40ea251b",
   "metadata": {
    "azdata_cell_guid": "d45060f3-97bc-484a-9ef4-66145bbe9427"
   },
   "source": [
    "## Visualize\n",
    "\n",
    "Create any visualizations for your EDA here. Make note in the form of code comments of what your thought process is for your visualizations."
   ]
  },
  {
   "cell_type": "code",
   "execution_count": 13,
   "id": "2afcc126",
   "metadata": {
    "scrolled": false
   },
   "outputs": [
    {
     "data": {
      "text/plain": [
       "[]                                                                                            960\n",
       "['Fiction']                                                                                    49\n",
       "['Fantasy']                                                                                    42\n",
       "['Nonfiction']                                                                                 24\n",
       "['Romance']                                                                                    20\n",
       "['Poetry']                                                                                     18\n",
       "['Horror']                                                                                     15\n",
       "['Thriller', 'Fiction', 'Mystery', 'Crime', 'Action', 'Suspense', 'Mystery Thriller']          11\n",
       "['Fiction', 'Young Adult', 'Childrens', 'Middle Grade', 'Fantasy', 'Mystery', 'Adventure']     11\n",
       "['Self Help']                                                                                   9\n",
       "Name: Genres, dtype: int64"
      ]
     },
     "execution_count": 13,
     "metadata": {},
     "output_type": "execute_result"
    }
   ],
   "source": [
    "# get top 10 most common genres\n",
    "genre_count = df['Genres'].value_counts().head(10)\n",
    "genre_count"
   ]
  },
  {
   "cell_type": "markdown",
   "id": "8b0e5f98",
   "metadata": {},
   "source": [
    "The above output reveals that there was missing a significant amount of missing data in the Genres column. I will address this in the next checkpoint when I clean the data."
   ]
  },
  {
   "cell_type": "markdown",
   "id": "4b7da713",
   "metadata": {
    "azdata_cell_guid": "26037d32-2047-4157-81ef-595916bd66a0"
   },
   "source": [
    "# Checkpoint Three: Cleaning Data\n",
    "\n",
    "Now you are ready to clean your data. "
   ]
  },
  {
   "cell_type": "code",
   "execution_count": 14,
   "id": "dec6c6c9",
   "metadata": {},
   "outputs": [
    {
     "data": {
      "text/html": [
       "<div>\n",
       "<style scoped>\n",
       "    .dataframe tbody tr th:only-of-type {\n",
       "        vertical-align: middle;\n",
       "    }\n",
       "\n",
       "    .dataframe tbody tr th {\n",
       "        vertical-align: top;\n",
       "    }\n",
       "\n",
       "    .dataframe thead th {\n",
       "        text-align: right;\n",
       "    }\n",
       "</style>\n",
       "<table border=\"1\" class=\"dataframe\">\n",
       "  <thead>\n",
       "    <tr style=\"text-align: right;\">\n",
       "      <th></th>\n",
       "      <th>ID</th>\n",
       "      <th>Book</th>\n",
       "      <th>Author</th>\n",
       "      <th>Description</th>\n",
       "      <th>Genres</th>\n",
       "      <th>Avg_Rating</th>\n",
       "      <th>Num_Ratings</th>\n",
       "      <th>URL</th>\n",
       "    </tr>\n",
       "  </thead>\n",
       "  <tbody>\n",
       "    <tr>\n",
       "      <th>2229</th>\n",
       "      <td>2229</td>\n",
       "      <td>As a Man Thinketh</td>\n",
       "      <td>James Allen</td>\n",
       "      <td>The mind guides our footsteps as we progress a...</td>\n",
       "      <td>['Self Help', 'Nonfiction', 'Philosophy', 'Per...</td>\n",
       "      <td>4.25</td>\n",
       "      <td>77,010</td>\n",
       "      <td>https://www.goodreads.com/book/show/81959.As_a...</td>\n",
       "    </tr>\n",
       "    <tr>\n",
       "      <th>8999</th>\n",
       "      <td>8999</td>\n",
       "      <td>What If You Could Skip the Cancer?</td>\n",
       "      <td>Katrina Bos</td>\n",
       "      <td>Why do we get cancer? Is it all just carcinoge...</td>\n",
       "      <td>[]</td>\n",
       "      <td>4.36</td>\n",
       "      <td>22</td>\n",
       "      <td>https://www.goodreads.com/book/show/7477618-wh...</td>\n",
       "    </tr>\n",
       "    <tr>\n",
       "      <th>9645</th>\n",
       "      <td>9645</td>\n",
       "      <td>Stop Saying Yes to Mr. No Good: Get Rid of Tox...</td>\n",
       "      <td>Karlicia Lewis</td>\n",
       "      <td>How many times have you asked yourself what yo...</td>\n",
       "      <td>[]</td>\n",
       "      <td>4.44</td>\n",
       "      <td>9</td>\n",
       "      <td>https://www.goodreads.com/book/show/18250305-s...</td>\n",
       "    </tr>\n",
       "    <tr>\n",
       "      <th>3881</th>\n",
       "      <td>3881</td>\n",
       "      <td>Passionate Declarations: Essays on War and Jus...</td>\n",
       "      <td>Howard Zinn</td>\n",
       "      <td>“A shotgun blast of revisionism that aims to s...</td>\n",
       "      <td>['History', 'Politics', 'Nonfiction', 'Philoso...</td>\n",
       "      <td>4.35</td>\n",
       "      <td>363</td>\n",
       "      <td>https://www.goodreads.com/book/show/16197.Pass...</td>\n",
       "    </tr>\n",
       "    <tr>\n",
       "      <th>3776</th>\n",
       "      <td>3776</td>\n",
       "      <td>Selling Scarlett (Love Inc., #1)</td>\n",
       "      <td>Ella James</td>\n",
       "      <td>Elizabeth DeVille doesn't belong at a party li...</td>\n",
       "      <td>['Romance', 'New Adult', 'Erotica', 'Contempor...</td>\n",
       "      <td>3.72</td>\n",
       "      <td>7,157</td>\n",
       "      <td>https://www.goodreads.com/book/show/17379508-s...</td>\n",
       "    </tr>\n",
       "    <tr>\n",
       "      <th>9707</th>\n",
       "      <td>9707</td>\n",
       "      <td>Happiness Lost</td>\n",
       "      <td>R.L.  Wallace</td>\n",
       "      <td>Disenchanted author Harry Sinclaire is complet...</td>\n",
       "      <td>[]</td>\n",
       "      <td>4.22</td>\n",
       "      <td>9</td>\n",
       "      <td>https://www.goodreads.com/book/show/18586360-h...</td>\n",
       "    </tr>\n",
       "    <tr>\n",
       "      <th>2452</th>\n",
       "      <td>2452</td>\n",
       "      <td>Homo Faber</td>\n",
       "      <td>Max Frisch</td>\n",
       "      <td>Walter Faber is an emotionally detached engine...</td>\n",
       "      <td>['Classics', 'Fiction', 'German Literature', '...</td>\n",
       "      <td>3.71</td>\n",
       "      <td>23,995</td>\n",
       "      <td>https://www.goodreads.com/book/show/10009.Homo...</td>\n",
       "    </tr>\n",
       "    <tr>\n",
       "      <th>2810</th>\n",
       "      <td>2810</td>\n",
       "      <td>Undone (Will Trent, #3)</td>\n",
       "      <td>Karin Slaughter</td>\n",
       "      <td>When a tortured young woman enters the trauma ...</td>\n",
       "      <td>['Thriller', 'Mystery', 'Crime', 'Fiction', 'S...</td>\n",
       "      <td>4.22</td>\n",
       "      <td>55,237</td>\n",
       "      <td>https://www.goodreads.com/book/show/5764902-un...</td>\n",
       "    </tr>\n",
       "    <tr>\n",
       "      <th>1819</th>\n",
       "      <td>1819</td>\n",
       "      <td>The Legendary Wolf</td>\n",
       "      <td>Ammar Habib</td>\n",
       "      <td>Available in paperback, Kindle, and Kindle Unl...</td>\n",
       "      <td>['Thriller', 'Action', 'Westerns', 'Military F...</td>\n",
       "      <td>4.28</td>\n",
       "      <td>5,196</td>\n",
       "      <td>https://www.goodreads.com/book/show/45456188-t...</td>\n",
       "    </tr>\n",
       "    <tr>\n",
       "      <th>2039</th>\n",
       "      <td>2039</td>\n",
       "      <td>Rising Strong: The Reckoning. The Rumble. The ...</td>\n",
       "      <td>Brené Brown</td>\n",
       "      <td>Social scientist Brené Brown has ignited a glo...</td>\n",
       "      <td>['Nonfiction', 'Self Help', 'Psychology', 'Per...</td>\n",
       "      <td>4.25</td>\n",
       "      <td>77,214</td>\n",
       "      <td>https://www.goodreads.com/book/show/23317538-r...</td>\n",
       "    </tr>\n",
       "  </tbody>\n",
       "</table>\n",
       "</div>"
      ],
      "text/plain": [
       "        ID                                               Book  \\\n",
       "2229  2229                                  As a Man Thinketh   \n",
       "8999  8999                 What If You Could Skip the Cancer?   \n",
       "9645  9645  Stop Saying Yes to Mr. No Good: Get Rid of Tox...   \n",
       "3881  3881  Passionate Declarations: Essays on War and Jus...   \n",
       "3776  3776                   Selling Scarlett (Love Inc., #1)   \n",
       "9707  9707                                     Happiness Lost   \n",
       "2452  2452                                         Homo Faber   \n",
       "2810  2810                            Undone (Will Trent, #3)   \n",
       "1819  1819                                 The Legendary Wolf   \n",
       "2039  2039  Rising Strong: The Reckoning. The Rumble. The ...   \n",
       "\n",
       "               Author                                        Description  \\\n",
       "2229      James Allen  The mind guides our footsteps as we progress a...   \n",
       "8999      Katrina Bos  Why do we get cancer? Is it all just carcinoge...   \n",
       "9645   Karlicia Lewis  How many times have you asked yourself what yo...   \n",
       "3881      Howard Zinn  “A shotgun blast of revisionism that aims to s...   \n",
       "3776       Ella James  Elizabeth DeVille doesn't belong at a party li...   \n",
       "9707    R.L.  Wallace  Disenchanted author Harry Sinclaire is complet...   \n",
       "2452       Max Frisch  Walter Faber is an emotionally detached engine...   \n",
       "2810  Karin Slaughter  When a tortured young woman enters the trauma ...   \n",
       "1819      Ammar Habib  Available in paperback, Kindle, and Kindle Unl...   \n",
       "2039      Brené Brown  Social scientist Brené Brown has ignited a glo...   \n",
       "\n",
       "                                                 Genres  Avg_Rating  \\\n",
       "2229  ['Self Help', 'Nonfiction', 'Philosophy', 'Per...        4.25   \n",
       "8999                                                 []        4.36   \n",
       "9645                                                 []        4.44   \n",
       "3881  ['History', 'Politics', 'Nonfiction', 'Philoso...        4.35   \n",
       "3776  ['Romance', 'New Adult', 'Erotica', 'Contempor...        3.72   \n",
       "9707                                                 []        4.22   \n",
       "2452  ['Classics', 'Fiction', 'German Literature', '...        3.71   \n",
       "2810  ['Thriller', 'Mystery', 'Crime', 'Fiction', 'S...        4.22   \n",
       "1819  ['Thriller', 'Action', 'Westerns', 'Military F...        4.28   \n",
       "2039  ['Nonfiction', 'Self Help', 'Psychology', 'Per...        4.25   \n",
       "\n",
       "     Num_Ratings                                                URL  \n",
       "2229      77,010  https://www.goodreads.com/book/show/81959.As_a...  \n",
       "8999          22  https://www.goodreads.com/book/show/7477618-wh...  \n",
       "9645           9  https://www.goodreads.com/book/show/18250305-s...  \n",
       "3881         363  https://www.goodreads.com/book/show/16197.Pass...  \n",
       "3776       7,157  https://www.goodreads.com/book/show/17379508-s...  \n",
       "9707           9  https://www.goodreads.com/book/show/18586360-h...  \n",
       "2452      23,995  https://www.goodreads.com/book/show/10009.Homo...  \n",
       "2810      55,237  https://www.goodreads.com/book/show/5764902-un...  \n",
       "1819       5,196  https://www.goodreads.com/book/show/45456188-t...  \n",
       "2039      77,214  https://www.goodreads.com/book/show/23317538-r...  "
      ]
     },
     "execution_count": 14,
     "metadata": {},
     "output_type": "execute_result"
    }
   ],
   "source": [
    "# run a sample to check for any data problems\n",
    "df.sample(10)"
   ]
  },
  {
   "cell_type": "markdown",
   "id": "e9da22ad",
   "metadata": {
    "azdata_cell_guid": "e172475a-c4ee-414a-8367-9965355dbba6"
   },
   "source": [
    "## Missing Data\n",
    "\n",
    "Test your dataset for missing data and handle it as needed. Make notes in the form of code comments as to your thought process."
   ]
  },
  {
   "cell_type": "code",
   "execution_count": 15,
   "id": "d0947a93",
   "metadata": {
    "scrolled": true
   },
   "outputs": [
    {
     "data": {
      "text/plain": [
       "[]                                                                                            960\n",
       "['Fiction']                                                                                    49\n",
       "['Fantasy']                                                                                    42\n",
       "['Nonfiction']                                                                                 24\n",
       "['Romance']                                                                                    20\n",
       "['Poetry']                                                                                     18\n",
       "['Horror']                                                                                     15\n",
       "['Thriller', 'Fiction', 'Mystery', 'Crime', 'Action', 'Suspense', 'Mystery Thriller']          11\n",
       "['Fiction', 'Young Adult', 'Childrens', 'Middle Grade', 'Fantasy', 'Mystery', 'Adventure']     11\n",
       "['Self Help']                                                                                   9\n",
       "Name: Genres, dtype: int64"
      ]
     },
     "execution_count": 15,
     "metadata": {},
     "output_type": "execute_result"
    }
   ],
   "source": [
    "# know that the Genre column needs some cleaning:\n",
    "genre_count = df['Genres'].value_counts().head(10)\n",
    "genre_count"
   ]
  },
  {
   "cell_type": "code",
   "execution_count": 16,
   "id": "e9391ba9",
   "metadata": {
    "scrolled": true
   },
   "outputs": [],
   "source": [
    "# replace null value '[]' with NaN\n",
    "df['Genres']=df[\"Genres\"].replace('[]',np.NaN)"
   ]
  },
  {
   "cell_type": "code",
   "execution_count": 17,
   "id": "ad24d75e",
   "metadata": {
    "scrolled": false
   },
   "outputs": [
    {
     "data": {
      "text/plain": [
       "['Fiction']                                                                                   49\n",
       "['Fantasy']                                                                                   42\n",
       "['Nonfiction']                                                                                24\n",
       "['Romance']                                                                                   20\n",
       "['Poetry']                                                                                    18\n",
       "['Horror']                                                                                    15\n",
       "['Thriller', 'Fiction', 'Mystery', 'Crime', 'Action', 'Suspense', 'Mystery Thriller']         11\n",
       "['Fiction', 'Young Adult', 'Childrens', 'Middle Grade', 'Fantasy', 'Mystery', 'Adventure']    11\n",
       "['Self Help']                                                                                  9\n",
       "['Young Adult']                                                                                9\n",
       "Name: Genres, dtype: int64"
      ]
     },
     "execution_count": 17,
     "metadata": {},
     "output_type": "execute_result"
    }
   ],
   "source": [
    "# see if that worked\n",
    "genre_count = df['Genres'].value_counts().head(10)\n",
    "genre_count"
   ]
  },
  {
   "cell_type": "code",
   "execution_count": 18,
   "id": "600e30a1",
   "metadata": {
    "azdata_cell_guid": "e1dc66ef-e471-4c27-92e7-ee878c106eba",
    "scrolled": true
   },
   "outputs": [
    {
     "data": {
      "text/plain": [
       "<Axes: >"
      ]
     },
     "execution_count": 18,
     "metadata": {},
     "output_type": "execute_result"
    },
    {
     "data": {
      "image/png": "[encoded data removed]",
      "text/plain": [
       "<Figure size 640x480 with 2 Axes>"
      ]
     },
     "metadata": {},
     "output_type": "display_data"
    }
   ],
   "source": [
    "# Plot a heatmap of any missing data\n",
    "cols = df.columns[:30] # first 30 columns\n",
    "colors = ['#000099', '#ffff00'] # specify the colors - yellow is missing. blue is not missing.\n",
    "sns.heatmap(df[cols].isnull(), cmap=sns.color_palette(colors))"
   ]
  },
  {
   "cell_type": "code",
   "execution_count": 19,
   "id": "36027728",
   "metadata": {},
   "outputs": [
    {
     "name": "stdout",
     "output_type": "stream",
     "text": [
      "ID - 0%\n",
      "Book - 0%\n",
      "Author - 0%\n",
      "Description - 1%\n",
      "Genres - 10%\n",
      "Avg_Rating - 0%\n",
      "Num_Ratings - 0%\n",
      "URL - 0%\n"
     ]
    }
   ],
   "source": [
    "# Try out a missing data percentage list! \n",
    "# if it's a larger dataset and the visualization takes too long can do this.\n",
    "# % of missing.\n",
    "for col in df.columns:\n",
    "    pct_missing = np.mean(df[col].isnull())\n",
    "    print('{} - {}%'.format(col, round(pct_missing*100)))"
   ]
  },
  {
   "cell_type": "markdown",
   "id": "12e70547",
   "metadata": {
    "azdata_cell_guid": "1233f543-e9a0-4f78-96f5-d7536554102e"
   },
   "source": [
    "## Irregular Data\n",
    "\n",
    "Detect outliers in your dataset and handle them as needed. Use code comments to make notes about your thought process."
   ]
  },
  {
   "cell_type": "code",
   "execution_count": 20,
   "id": "35819021",
   "metadata": {
    "azdata_cell_guid": "efed50ae-16f0-471d-98e2-632553a74c12",
    "scrolled": true
   },
   "outputs": [
    {
     "data": {
      "text/plain": [
       "<Axes: >"
      ]
     },
     "execution_count": 20,
     "metadata": {},
     "output_type": "execute_result"
    },
    {
     "data": {
      "image/png": "[encoded data removed]",
      "text/plain": [
       "<Figure size 640x480 with 1 Axes>"
      ]
     },
     "metadata": {},
     "output_type": "display_data"
    }
   ],
   "source": [
    "# Plot a histogram to see if there are any outliers.\n",
    "df[\"Avg_Rating\"].hist(bins=50)"
   ]
  },
  {
   "cell_type": "code",
   "execution_count": 21,
   "id": "ae048aae",
   "metadata": {
    "scrolled": true
   },
   "outputs": [
    {
     "data": {
      "text/plain": [
       "count    10000.000000\n",
       "mean         4.068577\n",
       "std          0.335359\n",
       "min          0.000000\n",
       "25%          3.880000\n",
       "50%          4.080000\n",
       "75%          4.260000\n",
       "max          5.000000\n",
       "Name: Avg_Rating, dtype: float64"
      ]
     },
     "execution_count": 21,
     "metadata": {},
     "output_type": "execute_result"
    }
   ],
   "source": [
    "# Use the describe() method\n",
    "df[\"Avg_Rating\"].describe()"
   ]
  },
  {
   "cell_type": "markdown",
   "id": "e638aff7",
   "metadata": {},
   "source": [
    "This means there is a book with a 0 score on average rating, which appears to be an outlier. "
   ]
  },
  {
   "cell_type": "markdown",
   "id": "dd991956",
   "metadata": {
    "azdata_cell_guid": "6f5b8ee0-bab3-44bc-958a-67d1e4c0407f"
   },
   "source": [
    "## Unnecessary Data\n",
    "\n",
    "Look for the different types of unnecessary data in your dataset and address it as needed. Make sure to use code comments to illustrate your thought process."
   ]
  },
  {
   "cell_type": "code",
   "execution_count": 22,
   "id": "f1ad0fa2",
   "metadata": {
    "azdata_cell_guid": "e788a239-2fbf-41de-9bd3-19e52e3b187c",
    "scrolled": false
   },
   "outputs": [
    {
     "name": "stdout",
     "output_type": "stream",
     "text": [
      "Number of duplicated rows:  (0, 8)\n"
     ]
    }
   ],
   "source": [
    "# check for duplicate rows\n",
    "duplicate_rows_df = df[df.duplicated()]\n",
    "print(\"Number of duplicated rows: \", duplicate_rows_df.shape)"
   ]
  },
  {
   "cell_type": "markdown",
   "id": "a659c26f",
   "metadata": {
    "azdata_cell_guid": "53e0cf94-c68a-4fa0-9849-9505a66bcce6"
   },
   "source": [
    "## Inconsistent Data\n",
    "\n",
    "Check for inconsistent data and address any that arises. As always, use code comments to illustrate your thought process."
   ]
  },
  {
   "cell_type": "code",
   "execution_count": 23,
   "id": "2aa6c0ad",
   "metadata": {},
   "outputs": [
    {
     "data": {
      "text/plain": [
       "8280    ['Picture Books', 'Childrens', 'Fiction', 'Cla...\n",
       "4928    ['Young Adult', 'Fiction', 'Realistic Fiction'...\n",
       "1635    ['Fiction', 'Thriller', 'Mystery Thriller', 'C...\n",
       "7934    ['Fantasy', 'Fiction', 'Science Fiction Fantas...\n",
       "3617    ['Memoir', 'Nonfiction', 'Biography', 'Humor',...\n",
       "5911                 ['Fantasy', 'Retellings', 'Fiction']\n",
       "5312    ['Fiction', 'Africa', 'Historical Fiction', 'Z...\n",
       "1894    ['Humor', 'Nonfiction', 'Essays', 'Memoir', 'A...\n",
       "7936    ['Westerns', 'Fiction', 'Historical Fiction', ...\n",
       "738     ['Fantasy', 'Fiction', 'High Fantasy', 'Epic F...\n",
       "Name: Genres, dtype: object"
      ]
     },
     "execution_count": 23,
     "metadata": {},
     "output_type": "execute_result"
    }
   ],
   "source": [
    "df['Genres'].sample(10)"
   ]
  },
  {
   "cell_type": "code",
   "execution_count": 24,
   "id": "4ba08a34",
   "metadata": {
    "scrolled": false
   },
   "outputs": [
    {
     "data": {
      "text/html": [
       "<div>\n",
       "<style scoped>\n",
       "    .dataframe tbody tr th:only-of-type {\n",
       "        vertical-align: middle;\n",
       "    }\n",
       "\n",
       "    .dataframe tbody tr th {\n",
       "        vertical-align: top;\n",
       "    }\n",
       "\n",
       "    .dataframe thead th {\n",
       "        text-align: right;\n",
       "    }\n",
       "</style>\n",
       "<table border=\"1\" class=\"dataframe\">\n",
       "  <thead>\n",
       "    <tr style=\"text-align: right;\">\n",
       "      <th></th>\n",
       "      <th>ID</th>\n",
       "      <th>Genres</th>\n",
       "      <th>Avg_Rating</th>\n",
       "      <th>Num_Ratings</th>\n",
       "    </tr>\n",
       "  </thead>\n",
       "  <tbody>\n",
       "    <tr>\n",
       "      <th>0</th>\n",
       "      <td>0</td>\n",
       "      <td>['Classics', 'Fiction', 'Historical Fiction', ...</td>\n",
       "      <td>4.27</td>\n",
       "      <td>5,691,311</td>\n",
       "    </tr>\n",
       "    <tr>\n",
       "      <th>1</th>\n",
       "      <td>1</td>\n",
       "      <td>['Fantasy', 'Fiction', 'Young Adult', 'Magic',...</td>\n",
       "      <td>4.47</td>\n",
       "      <td>9,278,135</td>\n",
       "    </tr>\n",
       "    <tr>\n",
       "      <th>2</th>\n",
       "      <td>2</td>\n",
       "      <td>['Classics', 'Fiction', 'Romance', 'Historical...</td>\n",
       "      <td>4.28</td>\n",
       "      <td>3,944,155</td>\n",
       "    </tr>\n",
       "    <tr>\n",
       "      <th>3</th>\n",
       "      <td>3</td>\n",
       "      <td>['Classics', 'Nonfiction', 'History', 'Biograp...</td>\n",
       "      <td>4.18</td>\n",
       "      <td>3,488,438</td>\n",
       "    </tr>\n",
       "    <tr>\n",
       "      <th>4</th>\n",
       "      <td>4</td>\n",
       "      <td>['Classics', 'Fiction', 'Dystopia', 'Fantasy',...</td>\n",
       "      <td>3.98</td>\n",
       "      <td>3,575,172</td>\n",
       "    </tr>\n",
       "  </tbody>\n",
       "</table>\n",
       "</div>"
      ],
      "text/plain": [
       "   ID                                             Genres  Avg_Rating  \\\n",
       "0   0  ['Classics', 'Fiction', 'Historical Fiction', ...        4.27   \n",
       "1   1  ['Fantasy', 'Fiction', 'Young Adult', 'Magic',...        4.47   \n",
       "2   2  ['Classics', 'Fiction', 'Romance', 'Historical...        4.28   \n",
       "3   3  ['Classics', 'Nonfiction', 'History', 'Biograp...        4.18   \n",
       "4   4  ['Classics', 'Fiction', 'Dystopia', 'Fantasy',...        3.98   \n",
       "\n",
       "  Num_Ratings  \n",
       "0   5,691,311  \n",
       "1   9,278,135  \n",
       "2   3,944,155  \n",
       "3   3,488,438  \n",
       "4   3,575,172  "
      ]
     },
     "execution_count": 24,
     "metadata": {},
     "output_type": "execute_result"
    }
   ],
   "source": [
    "# make a new dataframe for data manipulation with ID, genres, avg rating, num of ratings\n",
    "df1 = df[['ID','Genres','Avg_Rating','Num_Ratings']].copy()\n",
    "df1.head()"
   ]
  },
  {
   "cell_type": "code",
   "execution_count": 25,
   "id": "30f5987a",
   "metadata": {},
   "outputs": [],
   "source": [
    "df1['Genres'] = df1['Genres'].str.split(',')"
   ]
  },
  {
   "cell_type": "code",
   "execution_count": 26,
   "id": "a4aac564",
   "metadata": {},
   "outputs": [
    {
     "data": {
      "text/html": [
       "<div>\n",
       "<style scoped>\n",
       "    .dataframe tbody tr th:only-of-type {\n",
       "        vertical-align: middle;\n",
       "    }\n",
       "\n",
       "    .dataframe tbody tr th {\n",
       "        vertical-align: top;\n",
       "    }\n",
       "\n",
       "    .dataframe thead th {\n",
       "        text-align: right;\n",
       "    }\n",
       "</style>\n",
       "<table border=\"1\" class=\"dataframe\">\n",
       "  <thead>\n",
       "    <tr style=\"text-align: right;\">\n",
       "      <th></th>\n",
       "      <th>ID</th>\n",
       "      <th>Genres</th>\n",
       "      <th>Avg_Rating</th>\n",
       "      <th>Num_Ratings</th>\n",
       "    </tr>\n",
       "  </thead>\n",
       "  <tbody>\n",
       "    <tr>\n",
       "      <th>0</th>\n",
       "      <td>0</td>\n",
       "      <td>['Classics'</td>\n",
       "      <td>4.27</td>\n",
       "      <td>5,691,311</td>\n",
       "    </tr>\n",
       "    <tr>\n",
       "      <th>0</th>\n",
       "      <td>0</td>\n",
       "      <td>'Fiction'</td>\n",
       "      <td>4.27</td>\n",
       "      <td>5,691,311</td>\n",
       "    </tr>\n",
       "    <tr>\n",
       "      <th>0</th>\n",
       "      <td>0</td>\n",
       "      <td>'Historical Fiction'</td>\n",
       "      <td>4.27</td>\n",
       "      <td>5,691,311</td>\n",
       "    </tr>\n",
       "    <tr>\n",
       "      <th>0</th>\n",
       "      <td>0</td>\n",
       "      <td>'School'</td>\n",
       "      <td>4.27</td>\n",
       "      <td>5,691,311</td>\n",
       "    </tr>\n",
       "    <tr>\n",
       "      <th>0</th>\n",
       "      <td>0</td>\n",
       "      <td>'Literature'</td>\n",
       "      <td>4.27</td>\n",
       "      <td>5,691,311</td>\n",
       "    </tr>\n",
       "    <tr>\n",
       "      <th>...</th>\n",
       "      <td>...</td>\n",
       "      <td>...</td>\n",
       "      <td>...</td>\n",
       "      <td>...</td>\n",
       "    </tr>\n",
       "    <tr>\n",
       "      <th>9998</th>\n",
       "      <td>9998</td>\n",
       "      <td>['New Adult'</td>\n",
       "      <td>4.13</td>\n",
       "      <td>263</td>\n",
       "    </tr>\n",
       "    <tr>\n",
       "      <th>9998</th>\n",
       "      <td>9998</td>\n",
       "      <td>'Romance'</td>\n",
       "      <td>4.13</td>\n",
       "      <td>263</td>\n",
       "    </tr>\n",
       "    <tr>\n",
       "      <th>9998</th>\n",
       "      <td>9998</td>\n",
       "      <td>'Contemporary Romance'</td>\n",
       "      <td>4.13</td>\n",
       "      <td>263</td>\n",
       "    </tr>\n",
       "    <tr>\n",
       "      <th>9998</th>\n",
       "      <td>9998</td>\n",
       "      <td>'Contemporary']</td>\n",
       "      <td>4.13</td>\n",
       "      <td>263</td>\n",
       "    </tr>\n",
       "    <tr>\n",
       "      <th>9999</th>\n",
       "      <td>9999</td>\n",
       "      <td>NaN</td>\n",
       "      <td>5.00</td>\n",
       "      <td>36</td>\n",
       "    </tr>\n",
       "  </tbody>\n",
       "</table>\n",
       "<p>58923 rows × 4 columns</p>\n",
       "</div>"
      ],
      "text/plain": [
       "        ID                   Genres  Avg_Rating Num_Ratings\n",
       "0        0              ['Classics'        4.27   5,691,311\n",
       "0        0                'Fiction'        4.27   5,691,311\n",
       "0        0     'Historical Fiction'        4.27   5,691,311\n",
       "0        0                 'School'        4.27   5,691,311\n",
       "0        0             'Literature'        4.27   5,691,311\n",
       "...    ...                      ...         ...         ...\n",
       "9998  9998             ['New Adult'        4.13         263\n",
       "9998  9998                'Romance'        4.13         263\n",
       "9998  9998   'Contemporary Romance'        4.13         263\n",
       "9998  9998          'Contemporary']        4.13         263\n",
       "9999  9999                      NaN        5.00          36\n",
       "\n",
       "[58923 rows x 4 columns]"
      ]
     },
     "execution_count": 26,
     "metadata": {},
     "output_type": "execute_result"
    }
   ],
   "source": [
    "df1 = df1.explode('Genres')\n",
    "df1"
   ]
  },
  {
   "cell_type": "code",
   "execution_count": 27,
   "id": "68919614",
   "metadata": {
    "scrolled": true
   },
   "outputs": [
    {
     "name": "stderr",
     "output_type": "stream",
     "text": [
      "C:\\Users\\johan\\AppData\\Local\\Temp\\ipykernel_5532\\2532118343.py:2: FutureWarning: The default value of regex will change from True to False in a future version. In addition, single character regular expressions will *not* be treated as literal strings when regex=True.\n",
      "  df1['Genres']=df1['Genres'].str.replace('[','')\n",
      "C:\\Users\\johan\\AppData\\Local\\Temp\\ipykernel_5532\\2532118343.py:3: FutureWarning: The default value of regex will change from True to False in a future version. In addition, single character regular expressions will *not* be treated as literal strings when regex=True.\n",
      "  df1['Genres']=df1['Genres'].str.replace(']','')\n"
     ]
    },
    {
     "data": {
      "text/html": [
       "<div>\n",
       "<style scoped>\n",
       "    .dataframe tbody tr th:only-of-type {\n",
       "        vertical-align: middle;\n",
       "    }\n",
       "\n",
       "    .dataframe tbody tr th {\n",
       "        vertical-align: top;\n",
       "    }\n",
       "\n",
       "    .dataframe thead th {\n",
       "        text-align: right;\n",
       "    }\n",
       "</style>\n",
       "<table border=\"1\" class=\"dataframe\">\n",
       "  <thead>\n",
       "    <tr style=\"text-align: right;\">\n",
       "      <th></th>\n",
       "      <th>ID</th>\n",
       "      <th>Genres</th>\n",
       "      <th>Avg_Rating</th>\n",
       "      <th>Num_Ratings</th>\n",
       "    </tr>\n",
       "  </thead>\n",
       "  <tbody>\n",
       "    <tr>\n",
       "      <th>0</th>\n",
       "      <td>0</td>\n",
       "      <td>Classics</td>\n",
       "      <td>4.27</td>\n",
       "      <td>5,691,311</td>\n",
       "    </tr>\n",
       "    <tr>\n",
       "      <th>0</th>\n",
       "      <td>0</td>\n",
       "      <td>Fiction</td>\n",
       "      <td>4.27</td>\n",
       "      <td>5,691,311</td>\n",
       "    </tr>\n",
       "    <tr>\n",
       "      <th>0</th>\n",
       "      <td>0</td>\n",
       "      <td>Historical Fiction</td>\n",
       "      <td>4.27</td>\n",
       "      <td>5,691,311</td>\n",
       "    </tr>\n",
       "    <tr>\n",
       "      <th>0</th>\n",
       "      <td>0</td>\n",
       "      <td>School</td>\n",
       "      <td>4.27</td>\n",
       "      <td>5,691,311</td>\n",
       "    </tr>\n",
       "    <tr>\n",
       "      <th>0</th>\n",
       "      <td>0</td>\n",
       "      <td>Literature</td>\n",
       "      <td>4.27</td>\n",
       "      <td>5,691,311</td>\n",
       "    </tr>\n",
       "    <tr>\n",
       "      <th>...</th>\n",
       "      <td>...</td>\n",
       "      <td>...</td>\n",
       "      <td>...</td>\n",
       "      <td>...</td>\n",
       "    </tr>\n",
       "    <tr>\n",
       "      <th>9998</th>\n",
       "      <td>9998</td>\n",
       "      <td>New Adult</td>\n",
       "      <td>4.13</td>\n",
       "      <td>263</td>\n",
       "    </tr>\n",
       "    <tr>\n",
       "      <th>9998</th>\n",
       "      <td>9998</td>\n",
       "      <td>Romance</td>\n",
       "      <td>4.13</td>\n",
       "      <td>263</td>\n",
       "    </tr>\n",
       "    <tr>\n",
       "      <th>9998</th>\n",
       "      <td>9998</td>\n",
       "      <td>Contemporary Romance</td>\n",
       "      <td>4.13</td>\n",
       "      <td>263</td>\n",
       "    </tr>\n",
       "    <tr>\n",
       "      <th>9998</th>\n",
       "      <td>9998</td>\n",
       "      <td>Contemporary</td>\n",
       "      <td>4.13</td>\n",
       "      <td>263</td>\n",
       "    </tr>\n",
       "    <tr>\n",
       "      <th>9999</th>\n",
       "      <td>9999</td>\n",
       "      <td>NaN</td>\n",
       "      <td>5.00</td>\n",
       "      <td>36</td>\n",
       "    </tr>\n",
       "  </tbody>\n",
       "</table>\n",
       "<p>58923 rows × 4 columns</p>\n",
       "</div>"
      ],
      "text/plain": [
       "        ID                Genres  Avg_Rating Num_Ratings\n",
       "0        0              Classics        4.27   5,691,311\n",
       "0        0               Fiction        4.27   5,691,311\n",
       "0        0    Historical Fiction        4.27   5,691,311\n",
       "0        0                School        4.27   5,691,311\n",
       "0        0            Literature        4.27   5,691,311\n",
       "...    ...                   ...         ...         ...\n",
       "9998  9998             New Adult        4.13         263\n",
       "9998  9998               Romance        4.13         263\n",
       "9998  9998  Contemporary Romance        4.13         263\n",
       "9998  9998          Contemporary        4.13         263\n",
       "9999  9999                   NaN        5.00          36\n",
       "\n",
       "[58923 rows x 4 columns]"
      ]
     },
     "execution_count": 27,
     "metadata": {},
     "output_type": "execute_result"
    }
   ],
   "source": [
    "# clean the column to remove unnecessary punctuation\n",
    "df1['Genres']=df1['Genres'].str.replace('[','')\n",
    "df1['Genres']=df1['Genres'].str.replace(']','')\n",
    "df1['Genres']=df1['Genres'].str.replace(\"'\",'')\n",
    "df1['Genres']=df1['Genres'].str.replace(\"'\",'')\n",
    "df1['Genres']=df1['Genres'].str.strip()\n",
    "# check to make sure that worked\n",
    "df1"
   ]
  },
  {
   "cell_type": "code",
   "execution_count": 28,
   "id": "5059132d",
   "metadata": {},
   "outputs": [
    {
     "name": "stdout",
     "output_type": "stream",
     "text": [
      "ID - 0%\n",
      "Genres - 2%\n",
      "Avg_Rating - 0%\n",
      "Num_Ratings - 0%\n"
     ]
    }
   ],
   "source": [
    "# check how much Genres data is missing\n",
    "for col in df1.columns:\n",
    "    pct_missing = np.mean(df1[col].isnull())\n",
    "    print('{} - {}%'.format(col, round(pct_missing*100)))"
   ]
  },
  {
   "cell_type": "code",
   "execution_count": 29,
   "id": "94265b82",
   "metadata": {
    "scrolled": true
   },
   "outputs": [],
   "source": [
    "# now we can remove missing data\n",
    "df1.dropna(subset=['Genres'], inplace=True)"
   ]
  },
  {
   "cell_type": "code",
   "execution_count": 30,
   "id": "96f61bf1",
   "metadata": {},
   "outputs": [
    {
     "data": {
      "text/plain": [
       "(57963, 4)"
      ]
     },
     "execution_count": 30,
     "metadata": {},
     "output_type": "execute_result"
    }
   ],
   "source": [
    "# check shape\n",
    "df1.shape"
   ]
  },
  {
   "cell_type": "code",
   "execution_count": 31,
   "id": "9164cc08",
   "metadata": {},
   "outputs": [],
   "source": [
    "# select subsection of df1 where avg_rating is greater than or equal to 4.3 (this is what the publishing company is looking for)\n",
    "df2 = df1[(df1['Avg_Rating'] >= 4.3)]"
   ]
  },
  {
   "cell_type": "code",
   "execution_count": 32,
   "id": "6512fcd5",
   "metadata": {
    "scrolled": false
   },
   "outputs": [
    {
     "data": {
      "text/plain": [
       "(8602, 4)"
      ]
     },
     "execution_count": 32,
     "metadata": {},
     "output_type": "execute_result"
    }
   ],
   "source": [
    "df2.shape"
   ]
  },
  {
   "cell_type": "code",
   "execution_count": 33,
   "id": "40c27f7f",
   "metadata": {
    "scrolled": false
   },
   "outputs": [
    {
     "name": "stderr",
     "output_type": "stream",
     "text": [
      "C:\\Users\\johan\\AppData\\Local\\Temp\\ipykernel_5532\\3108735582.py:1: SettingWithCopyWarning: \n",
      "A value is trying to be set on a copy of a slice from a DataFrame.\n",
      "Try using .loc[row_indexer,col_indexer] = value instead\n",
      "\n",
      "See the caveats in the documentation: https://pandas.pydata.org/pandas-docs/stable/user_guide/indexing.html#returning-a-view-versus-a-copy\n",
      "  df2[\"Num_Ratings\"] = df2[\"Num_Ratings\"].str.replace(',','')\n",
      "C:\\Users\\johan\\AppData\\Local\\Temp\\ipykernel_5532\\3108735582.py:2: SettingWithCopyWarning: \n",
      "A value is trying to be set on a copy of a slice from a DataFrame.\n",
      "Try using .loc[row_indexer,col_indexer] = value instead\n",
      "\n",
      "See the caveats in the documentation: https://pandas.pydata.org/pandas-docs/stable/user_guide/indexing.html#returning-a-view-versus-a-copy\n",
      "  df2[\"Num_Ratings\"] = df2[\"Num_Ratings\"].astype(int)\n"
     ]
    }
   ],
   "source": [
    "df2[\"Num_Ratings\"] = df2[\"Num_Ratings\"].str.replace(',','')\n",
    "df2[\"Num_Ratings\"] = df2[\"Num_Ratings\"].astype(int)"
   ]
  },
  {
   "cell_type": "code",
   "execution_count": 34,
   "id": "2bc6fbbc",
   "metadata": {},
   "outputs": [],
   "source": [
    "# select where num_ratings is greater than 100 (i.e., statistically significant)\n",
    "df3 = df2[(df2['Num_Ratings'] >= 100)]"
   ]
  },
  {
   "cell_type": "code",
   "execution_count": 35,
   "id": "66895aa9",
   "metadata": {},
   "outputs": [
    {
     "data": {
      "text/plain": [
       "(7911, 4)"
      ]
     },
     "execution_count": 35,
     "metadata": {},
     "output_type": "execute_result"
    }
   ],
   "source": [
    "df3.shape"
   ]
  },
  {
   "cell_type": "code",
   "execution_count": 36,
   "id": "2d350b5b",
   "metadata": {
    "scrolled": true
   },
   "outputs": [
    {
     "data": {
      "text/plain": [
       "Fiction               719\n",
       "Nonfiction            375\n",
       "Fantasy               370\n",
       "Classics              265\n",
       "Young Adult           206\n",
       "Romance               203\n",
       "Historical Fiction    193\n",
       "Audiobook             180\n",
       "History               175\n",
       "Contemporary          164\n",
       "Historical            144\n",
       "Novels                140\n",
       "Biography             130\n",
       "Adventure             128\n",
       "Childrens             118\n",
       "Literature            102\n",
       "Adult                 102\n",
       "Religion              101\n",
       "Memoir                 97\n",
       "Philosophy             96\n",
       "War                    84\n",
       "Science Fiction        82\n",
       "Mystery                82\n",
       "Drama                  81\n",
       "Politics               80\n",
       "Name: Genres, dtype: int64"
      ]
     },
     "execution_count": 36,
     "metadata": {},
     "output_type": "execute_result"
    }
   ],
   "source": [
    "# display top 25 most common genres\n",
    "df3_top25 = df3['Genres'].value_counts().head(25)\n",
    "df3_top25"
   ]
  },
  {
   "cell_type": "code",
   "execution_count": 41,
   "id": "84b28590",
   "metadata": {},
   "outputs": [
    {
     "data": {
      "text/html": [
       "<div>\n",
       "<style scoped>\n",
       "    .dataframe tbody tr th:only-of-type {\n",
       "        vertical-align: middle;\n",
       "    }\n",
       "\n",
       "    .dataframe tbody tr th {\n",
       "        vertical-align: top;\n",
       "    }\n",
       "\n",
       "    .dataframe thead th {\n",
       "        text-align: right;\n",
       "    }\n",
       "</style>\n",
       "<table border=\"1\" class=\"dataframe\">\n",
       "  <thead>\n",
       "    <tr style=\"text-align: right;\">\n",
       "      <th></th>\n",
       "      <th>Count</th>\n",
       "      <th>Genres</th>\n",
       "    </tr>\n",
       "  </thead>\n",
       "  <tbody>\n",
       "    <tr>\n",
       "      <th>Fiction</th>\n",
       "      <td>719</td>\n",
       "      <td>Fiction</td>\n",
       "    </tr>\n",
       "    <tr>\n",
       "      <th>Nonfiction</th>\n",
       "      <td>375</td>\n",
       "      <td>Nonfiction</td>\n",
       "    </tr>\n",
       "    <tr>\n",
       "      <th>Fantasy</th>\n",
       "      <td>370</td>\n",
       "      <td>Fantasy</td>\n",
       "    </tr>\n",
       "    <tr>\n",
       "      <th>Classics</th>\n",
       "      <td>265</td>\n",
       "      <td>Classics</td>\n",
       "    </tr>\n",
       "    <tr>\n",
       "      <th>Young Adult</th>\n",
       "      <td>206</td>\n",
       "      <td>Young Adult</td>\n",
       "    </tr>\n",
       "    <tr>\n",
       "      <th>Romance</th>\n",
       "      <td>203</td>\n",
       "      <td>Romance</td>\n",
       "    </tr>\n",
       "    <tr>\n",
       "      <th>Historical Fiction</th>\n",
       "      <td>193</td>\n",
       "      <td>Historical Fiction</td>\n",
       "    </tr>\n",
       "    <tr>\n",
       "      <th>Audiobook</th>\n",
       "      <td>180</td>\n",
       "      <td>Audiobook</td>\n",
       "    </tr>\n",
       "    <tr>\n",
       "      <th>History</th>\n",
       "      <td>175</td>\n",
       "      <td>History</td>\n",
       "    </tr>\n",
       "    <tr>\n",
       "      <th>Contemporary</th>\n",
       "      <td>164</td>\n",
       "      <td>Contemporary</td>\n",
       "    </tr>\n",
       "    <tr>\n",
       "      <th>Historical</th>\n",
       "      <td>144</td>\n",
       "      <td>Historical</td>\n",
       "    </tr>\n",
       "    <tr>\n",
       "      <th>Novels</th>\n",
       "      <td>140</td>\n",
       "      <td>Novels</td>\n",
       "    </tr>\n",
       "    <tr>\n",
       "      <th>Biography</th>\n",
       "      <td>130</td>\n",
       "      <td>Biography</td>\n",
       "    </tr>\n",
       "    <tr>\n",
       "      <th>Adventure</th>\n",
       "      <td>128</td>\n",
       "      <td>Adventure</td>\n",
       "    </tr>\n",
       "    <tr>\n",
       "      <th>Childrens</th>\n",
       "      <td>118</td>\n",
       "      <td>Childrens</td>\n",
       "    </tr>\n",
       "    <tr>\n",
       "      <th>Literature</th>\n",
       "      <td>102</td>\n",
       "      <td>Literature</td>\n",
       "    </tr>\n",
       "    <tr>\n",
       "      <th>Adult</th>\n",
       "      <td>102</td>\n",
       "      <td>Adult</td>\n",
       "    </tr>\n",
       "    <tr>\n",
       "      <th>Religion</th>\n",
       "      <td>101</td>\n",
       "      <td>Religion</td>\n",
       "    </tr>\n",
       "    <tr>\n",
       "      <th>Memoir</th>\n",
       "      <td>97</td>\n",
       "      <td>Memoir</td>\n",
       "    </tr>\n",
       "    <tr>\n",
       "      <th>Philosophy</th>\n",
       "      <td>96</td>\n",
       "      <td>Philosophy</td>\n",
       "    </tr>\n",
       "    <tr>\n",
       "      <th>War</th>\n",
       "      <td>84</td>\n",
       "      <td>War</td>\n",
       "    </tr>\n",
       "    <tr>\n",
       "      <th>Science Fiction</th>\n",
       "      <td>82</td>\n",
       "      <td>Science Fiction</td>\n",
       "    </tr>\n",
       "    <tr>\n",
       "      <th>Mystery</th>\n",
       "      <td>82</td>\n",
       "      <td>Mystery</td>\n",
       "    </tr>\n",
       "    <tr>\n",
       "      <th>Drama</th>\n",
       "      <td>81</td>\n",
       "      <td>Drama</td>\n",
       "    </tr>\n",
       "    <tr>\n",
       "      <th>Politics</th>\n",
       "      <td>80</td>\n",
       "      <td>Politics</td>\n",
       "    </tr>\n",
       "  </tbody>\n",
       "</table>\n",
       "</div>"
      ],
      "text/plain": [
       "                    Count              Genres\n",
       "Fiction               719             Fiction\n",
       "Nonfiction            375          Nonfiction\n",
       "Fantasy               370             Fantasy\n",
       "Classics              265            Classics\n",
       "Young Adult           206         Young Adult\n",
       "Romance               203             Romance\n",
       "Historical Fiction    193  Historical Fiction\n",
       "Audiobook             180           Audiobook\n",
       "History               175             History\n",
       "Contemporary          164        Contemporary\n",
       "Historical            144          Historical\n",
       "Novels                140              Novels\n",
       "Biography             130           Biography\n",
       "Adventure             128           Adventure\n",
       "Childrens             118           Childrens\n",
       "Literature            102          Literature\n",
       "Adult                 102               Adult\n",
       "Religion              101            Religion\n",
       "Memoir                 97              Memoir\n",
       "Philosophy             96          Philosophy\n",
       "War                    84                 War\n",
       "Science Fiction        82     Science Fiction\n",
       "Mystery                82             Mystery\n",
       "Drama                  81               Drama\n",
       "Politics               80            Politics"
      ]
     },
     "execution_count": 41,
     "metadata": {},
     "output_type": "execute_result"
    }
   ],
   "source": [
    "# make the above a dataframe for plotting\n",
    "df3_top25 = pd.DataFrame(df3_top25)\n",
    "# rename column displaying value counts from Genres to Count\n",
    "df3_top25 = df3_top25.rename(columns={'Genres': 'Count'})\n",
    "# set the index displaying genre names as a column to be accessed in plot\n",
    "df3_top25['Genres']=df3_top25.index\n",
    "df3_top25"
   ]
  },
  {
   "cell_type": "code",
   "execution_count": 45,
   "id": "f74e8d68",
   "metadata": {},
   "outputs": [
    {
     "data": {
      "image/png": "[encoded data removed]",
      "text/plain": [
       "<Figure size 1000x700 with 1 Axes>"
      ]
     },
     "metadata": {},
     "output_type": "display_data"
    }
   ],
   "source": [
    "# plot this\n",
    "fig = plt.figure(figsize =(10, 7))\n",
    "sns.set_style(\"whitegrid\")\n",
    "sns.barplot(x='Genres', y='Count', data=df3_top25).set(title=\"Count of Top 25 Highest Rated Genres\")\n",
    "plt.xticks(rotation=90)\n",
    "plt.show()"
   ]
  }
 ],
 "metadata": {
  "kernelspec": {
   "display_name": "Python 3 (ipykernel)",
   "language": "python",
   "name": "python3"
  },
  "language_info": {
   "codemirror_mode": {
    "name": "ipython",
    "version": 3
   },
   "file_extension": ".py",
   "mimetype": "text/x-python",
   "name": "python",
   "nbconvert_exporter": "python",
   "pygments_lexer": "ipython3",
   "version": "3.10.9"
  }
 },
 "nbformat": 4,
 "nbformat_minor": 5
}
