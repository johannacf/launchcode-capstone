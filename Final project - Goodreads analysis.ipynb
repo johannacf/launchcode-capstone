{
 "cells": [
  {
   "cell_type": "markdown",
   "id": "cd76ba12",
   "metadata": {
    "azdata_cell_guid": "151601c9-ca7a-412e-af80-c62a87e0837e"
   },
   "source": [
    "# Checkpoint Two: Exploratory Data Analysis\n",
    "\n",
    "Now that your chosen dataset is approved, it is time to start working on your analysis. Use this notebook to perform your EDA and make notes where directed to as you work.\n",
    "\n",
    "## Getting Started\n",
    "\n",
    "Since we have not provided your dataset for you, you will need to load the necessary files in this repository. Make sure to include a link back to the original dataset here as well.\n",
    "\n",
    "My dataset: https://www.kaggle.com/datasets/ishikajohari/best-books-10k-multi-genre-data?resource=download\n",
    "\n",
    "Your first task in EDA is to import necessary libraries and create a dataframe(s). Make note in the form of code comments of what your thought process is as you work on this setup task."
   ]
  },
  {
   "cell_type": "code",
   "execution_count": 1,
   "id": "a2bbc79d",
   "metadata": {
    "azdata_cell_guid": "7b503e37-6df5-4433-acfb-678b1346db14"
   },
   "outputs": [],
   "source": [
    "#importing all the libraries necessary for EDA and data visualization later down the road\n",
    "import pandas as pd\n",
    "import numpy as np\n",
    "import seaborn as sns\n",
    "import matplotlib.pyplot as plt\n",
    "from matplotlib import style\n",
    "\n",
    "df = pd.read_csv(\"goodreads_data.csv\")"
   ]
  },
  {
   "cell_type": "code",
   "execution_count": 2,
   "id": "9c6d5526",
   "metadata": {},
   "outputs": [
    {
     "data": {
      "text/html": [
       "<div>\n",
       "<style scoped>\n",
       "    .dataframe tbody tr th:only-of-type {\n",
       "        vertical-align: middle;\n",
       "    }\n",
       "\n",
       "    .dataframe tbody tr th {\n",
       "        vertical-align: top;\n",
       "    }\n",
       "\n",
       "    .dataframe thead th {\n",
       "        text-align: right;\n",
       "    }\n",
       "</style>\n",
       "<table border=\"1\" class=\"dataframe\">\n",
       "  <thead>\n",
       "    <tr style=\"text-align: right;\">\n",
       "      <th></th>\n",
       "      <th>Unnamed: 0</th>\n",
       "      <th>Book</th>\n",
       "      <th>Author</th>\n",
       "      <th>Description</th>\n",
       "      <th>Genres</th>\n",
       "      <th>Avg_Rating</th>\n",
       "      <th>Num_Ratings</th>\n",
       "      <th>URL</th>\n",
       "    </tr>\n",
       "  </thead>\n",
       "  <tbody>\n",
       "    <tr>\n",
       "      <th>0</th>\n",
       "      <td>0</td>\n",
       "      <td>To Kill a Mockingbird</td>\n",
       "      <td>Harper Lee</td>\n",
       "      <td>The unforgettable novel of a childhood in a sl...</td>\n",
       "      <td>['Classics', 'Fiction', 'Historical Fiction', ...</td>\n",
       "      <td>4.27</td>\n",
       "      <td>5,691,311</td>\n",
       "      <td>https://www.goodreads.com/book/show/2657.To_Ki...</td>\n",
       "    </tr>\n",
       "    <tr>\n",
       "      <th>1</th>\n",
       "      <td>1</td>\n",
       "      <td>Harry Potter and the Philosopher’s Stone (Harr...</td>\n",
       "      <td>J.K. Rowling</td>\n",
       "      <td>Harry Potter thinks he is an ordinary boy - un...</td>\n",
       "      <td>['Fantasy', 'Fiction', 'Young Adult', 'Magic',...</td>\n",
       "      <td>4.47</td>\n",
       "      <td>9,278,135</td>\n",
       "      <td>https://www.goodreads.com/book/show/72193.Harr...</td>\n",
       "    </tr>\n",
       "    <tr>\n",
       "      <th>2</th>\n",
       "      <td>2</td>\n",
       "      <td>Pride and Prejudice</td>\n",
       "      <td>Jane Austen</td>\n",
       "      <td>Since its immediate success in 1813, Pride and...</td>\n",
       "      <td>['Classics', 'Fiction', 'Romance', 'Historical...</td>\n",
       "      <td>4.28</td>\n",
       "      <td>3,944,155</td>\n",
       "      <td>https://www.goodreads.com/book/show/1885.Pride...</td>\n",
       "    </tr>\n",
       "    <tr>\n",
       "      <th>3</th>\n",
       "      <td>3</td>\n",
       "      <td>The Diary of a Young Girl</td>\n",
       "      <td>Anne Frank</td>\n",
       "      <td>Discovered in the attic in which she spent the...</td>\n",
       "      <td>['Classics', 'Nonfiction', 'History', 'Biograp...</td>\n",
       "      <td>4.18</td>\n",
       "      <td>3,488,438</td>\n",
       "      <td>https://www.goodreads.com/book/show/48855.The_...</td>\n",
       "    </tr>\n",
       "    <tr>\n",
       "      <th>4</th>\n",
       "      <td>4</td>\n",
       "      <td>Animal Farm</td>\n",
       "      <td>George Orwell</td>\n",
       "      <td>Librarian's note: There is an Alternate Cover ...</td>\n",
       "      <td>['Classics', 'Fiction', 'Dystopia', 'Fantasy',...</td>\n",
       "      <td>3.98</td>\n",
       "      <td>3,575,172</td>\n",
       "      <td>https://www.goodreads.com/book/show/170448.Ani...</td>\n",
       "    </tr>\n",
       "  </tbody>\n",
       "</table>\n",
       "</div>"
      ],
      "text/plain": [
       "   Unnamed: 0                                               Book  \\\n",
       "0           0                              To Kill a Mockingbird   \n",
       "1           1  Harry Potter and the Philosopher’s Stone (Harr...   \n",
       "2           2                                Pride and Prejudice   \n",
       "3           3                          The Diary of a Young Girl   \n",
       "4           4                                        Animal Farm   \n",
       "\n",
       "          Author                                        Description  \\\n",
       "0     Harper Lee  The unforgettable novel of a childhood in a sl...   \n",
       "1   J.K. Rowling  Harry Potter thinks he is an ordinary boy - un...   \n",
       "2    Jane Austen  Since its immediate success in 1813, Pride and...   \n",
       "3     Anne Frank  Discovered in the attic in which she spent the...   \n",
       "4  George Orwell  Librarian's note: There is an Alternate Cover ...   \n",
       "\n",
       "                                              Genres  Avg_Rating Num_Ratings  \\\n",
       "0  ['Classics', 'Fiction', 'Historical Fiction', ...        4.27   5,691,311   \n",
       "1  ['Fantasy', 'Fiction', 'Young Adult', 'Magic',...        4.47   9,278,135   \n",
       "2  ['Classics', 'Fiction', 'Romance', 'Historical...        4.28   3,944,155   \n",
       "3  ['Classics', 'Nonfiction', 'History', 'Biograp...        4.18   3,488,438   \n",
       "4  ['Classics', 'Fiction', 'Dystopia', 'Fantasy',...        3.98   3,575,172   \n",
       "\n",
       "                                                 URL  \n",
       "0  https://www.goodreads.com/book/show/2657.To_Ki...  \n",
       "1  https://www.goodreads.com/book/show/72193.Harr...  \n",
       "2  https://www.goodreads.com/book/show/1885.Pride...  \n",
       "3  https://www.goodreads.com/book/show/48855.The_...  \n",
       "4  https://www.goodreads.com/book/show/170448.Ani...  "
      ]
     },
     "execution_count": 2,
     "metadata": {},
     "output_type": "execute_result"
    }
   ],
   "source": [
    "df.head()"
   ]
  },
  {
   "cell_type": "markdown",
   "id": "f2cba23b",
   "metadata": {
    "azdata_cell_guid": "129ce836-524b-4ea8-b394-a959f9308d6a"
   },
   "source": [
    "## Get to Know the Numbers\n",
    "\n",
    "Now that you have everything setup, put any code that you use to get to know the dataframe and its rows and columns better in the cell below. You can use whatever techniques you like, except for visualizations. You will put those in a separate section.\n",
    "\n",
    "When working on your code, make sure to leave comments so that your mentors can understand your thought process."
   ]
  },
  {
   "cell_type": "code",
   "execution_count": 3,
   "id": "26382ef7",
   "metadata": {},
   "outputs": [
    {
     "name": "stdout",
     "output_type": "stream",
     "text": [
      "<class 'pandas.core.frame.DataFrame'>\n",
      "RangeIndex: 10000 entries, 0 to 9999\n",
      "Data columns (total 8 columns):\n",
      " #   Column       Non-Null Count  Dtype  \n",
      "---  ------       --------------  -----  \n",
      " 0   Unnamed: 0   10000 non-null  int64  \n",
      " 1   Book         10000 non-null  object \n",
      " 2   Author       10000 non-null  object \n",
      " 3   Description  9923 non-null   object \n",
      " 4   Genres       10000 non-null  object \n",
      " 5   Avg_Rating   10000 non-null  float64\n",
      " 6   Num_Ratings  10000 non-null  object \n",
      " 7   URL          10000 non-null  object \n",
      "dtypes: float64(1), int64(1), object(6)\n",
      "memory usage: 625.1+ KB\n"
     ]
    }
   ],
   "source": [
    "df.info()"
   ]
  },
  {
   "cell_type": "code",
   "execution_count": 4,
   "id": "ac4325f3",
   "metadata": {
    "azdata_cell_guid": "0ca2d318-f6e8-43ef-a33e-5304d24d928d",
    "scrolled": true,
    "tags": []
   },
   "outputs": [
    {
     "data": {
      "text/plain": [
       "Index(['Unnamed: 0', 'Book', 'Author', 'Description', 'Genres', 'Avg_Rating',\n",
       "       'Num_Ratings', 'URL'],\n",
       "      dtype='object')"
      ]
     },
     "execution_count": 4,
     "metadata": {},
     "output_type": "execute_result"
    }
   ],
   "source": [
    "#print the columns\n",
    "df.columns"
   ]
  },
  {
   "cell_type": "code",
   "execution_count": 5,
   "id": "0bf5429f",
   "metadata": {},
   "outputs": [],
   "source": [
    "#rename the 'Unnamed' column\n",
    "df = df.rename(columns={'Unnamed: 0':'ID'})"
   ]
  },
  {
   "cell_type": "code",
   "execution_count": 6,
   "id": "fe7fdf73",
   "metadata": {
    "scrolled": false
   },
   "outputs": [
    {
     "data": {
      "text/plain": [
       "Index(['ID', 'Book', 'Author', 'Description', 'Genres', 'Avg_Rating',\n",
       "       'Num_Ratings', 'URL'],\n",
       "      dtype='object')"
      ]
     },
     "execution_count": 6,
     "metadata": {},
     "output_type": "execute_result"
    }
   ],
   "source": [
    "df.columns"
   ]
  },
  {
   "cell_type": "code",
   "execution_count": 7,
   "id": "9510871b",
   "metadata": {},
   "outputs": [
    {
     "data": {
      "text/plain": [
       "(10000, 8)"
      ]
     },
     "execution_count": 7,
     "metadata": {},
     "output_type": "execute_result"
    }
   ],
   "source": [
    "# check the size of df\n",
    "df.shape"
   ]
  },
  {
   "cell_type": "code",
   "execution_count": 8,
   "id": "173fb552",
   "metadata": {
    "scrolled": true
   },
   "outputs": [
    {
     "name": "stdout",
     "output_type": "stream",
     "text": [
      "Number of duplicated rows:  (0, 8)\n"
     ]
    }
   ],
   "source": [
    "# check for duplicates\n",
    "duplicate_rows_df = df[df.duplicated()]\n",
    "print(\"Number of duplicated rows: \", duplicate_rows_df.shape)"
   ]
  },
  {
   "cell_type": "code",
   "execution_count": 9,
   "id": "10df5896",
   "metadata": {},
   "outputs": [
    {
     "data": {
      "text/plain": [
       "count    10000.000000\n",
       "mean         4.068577\n",
       "std          0.335359\n",
       "min          0.000000\n",
       "25%          3.880000\n",
       "50%          4.080000\n",
       "75%          4.260000\n",
       "max          5.000000\n",
       "Name: Avg_Rating, dtype: float64"
      ]
     },
     "execution_count": 9,
     "metadata": {},
     "output_type": "execute_result"
    }
   ],
   "source": [
    "# what's the avg rating of the data set?\n",
    "df[\"Avg_Rating\"].describe()"
   ]
  },
  {
   "cell_type": "code",
   "execution_count": 10,
   "id": "fca78d6f",
   "metadata": {
    "scrolled": true
   },
   "outputs": [],
   "source": [
    "#which book has the highest rating?\n",
    "top_books = (df[df.Avg_Rating == df.Avg_Rating.max()])"
   ]
  },
  {
   "cell_type": "code",
   "execution_count": 11,
   "id": "4e8b623d",
   "metadata": {
    "scrolled": true
   },
   "outputs": [
    {
     "data": {
      "text/plain": [
       "(120, 8)"
      ]
     },
     "execution_count": 11,
     "metadata": {},
     "output_type": "execute_result"
    }
   ],
   "source": [
    "# how many?\n",
    "top_books.shape"
   ]
  },
  {
   "cell_type": "code",
   "execution_count": 12,
   "id": "696ad1bc",
   "metadata": {},
   "outputs": [
    {
     "data": {
      "text/html": [
       "<div>\n",
       "<style scoped>\n",
       "    .dataframe tbody tr th:only-of-type {\n",
       "        vertical-align: middle;\n",
       "    }\n",
       "\n",
       "    .dataframe tbody tr th {\n",
       "        vertical-align: top;\n",
       "    }\n",
       "\n",
       "    .dataframe thead th {\n",
       "        text-align: right;\n",
       "    }\n",
       "</style>\n",
       "<table border=\"1\" class=\"dataframe\">\n",
       "  <thead>\n",
       "    <tr style=\"text-align: right;\">\n",
       "      <th></th>\n",
       "      <th>ID</th>\n",
       "      <th>Book</th>\n",
       "      <th>Author</th>\n",
       "      <th>Description</th>\n",
       "      <th>Genres</th>\n",
       "      <th>Avg_Rating</th>\n",
       "      <th>Num_Ratings</th>\n",
       "      <th>URL</th>\n",
       "    </tr>\n",
       "  </thead>\n",
       "  <tbody>\n",
       "    <tr>\n",
       "      <th>3737</th>\n",
       "      <td>3737</td>\n",
       "      <td>Joey Wheeler: The Official Character &amp; Monster...</td>\n",
       "      <td>Arthur \"Sam\" Murakami</td>\n",
       "      <td>\"Check out this official character and monster...</td>\n",
       "      <td>[]</td>\n",
       "      <td>5.0</td>\n",
       "      <td>2</td>\n",
       "      <td>https://www.goodreads.com/book/show/2114514.Jo...</td>\n",
       "    </tr>\n",
       "    <tr>\n",
       "      <th>4603</th>\n",
       "      <td>4603</td>\n",
       "      <td>This Land of Streams: Spiritual, Friendship, R...</td>\n",
       "      <td>Maria Johnsen</td>\n",
       "      <td>You will find within this book Maria Johnsen's...</td>\n",
       "      <td>[]</td>\n",
       "      <td>5.0</td>\n",
       "      <td>11</td>\n",
       "      <td>https://www.goodreads.com/book/show/20773953-t...</td>\n",
       "    </tr>\n",
       "    <tr>\n",
       "      <th>4824</th>\n",
       "      <td>4824</td>\n",
       "      <td>Ama Dios (4 AoL Consciousness Books Combined, ...</td>\n",
       "      <td>Nataša Pantović</td>\n",
       "      <td>Ama Dios, 4 AoL Consciousness Books Combined.A...</td>\n",
       "      <td>['Philosophy', 'Spirituality', 'Adult']</td>\n",
       "      <td>5.0</td>\n",
       "      <td>6</td>\n",
       "      <td>https://www.goodreads.com/book/show/44015366-a...</td>\n",
       "    </tr>\n",
       "    <tr>\n",
       "      <th>5809</th>\n",
       "      <td>5809</td>\n",
       "      <td>The Secrets of Albion Falls (The Secrets Serie...</td>\n",
       "      <td>Sass Cadeaux</td>\n",
       "      <td>Living a sequestered life in magical village n...</td>\n",
       "      <td>[]</td>\n",
       "      <td>5.0</td>\n",
       "      <td>23</td>\n",
       "      <td>https://www.goodreads.com/book/show/17310646-t...</td>\n",
       "    </tr>\n",
       "    <tr>\n",
       "      <th>5843</th>\n",
       "      <td>5843</td>\n",
       "      <td>Eclavarda Rising</td>\n",
       "      <td>Stephen Christiansen</td>\n",
       "      <td>NaN</td>\n",
       "      <td>[]</td>\n",
       "      <td>5.0</td>\n",
       "      <td>2</td>\n",
       "      <td>https://www.goodreads.com/book/show/23353186-e...</td>\n",
       "    </tr>\n",
       "  </tbody>\n",
       "</table>\n",
       "</div>"
      ],
      "text/plain": [
       "        ID                                               Book  \\\n",
       "3737  3737  Joey Wheeler: The Official Character & Monster...   \n",
       "4603  4603  This Land of Streams: Spiritual, Friendship, R...   \n",
       "4824  4824  Ama Dios (4 AoL Consciousness Books Combined, ...   \n",
       "5809  5809  The Secrets of Albion Falls (The Secrets Serie...   \n",
       "5843  5843                                   Eclavarda Rising   \n",
       "\n",
       "                     Author  \\\n",
       "3737  Arthur \"Sam\" Murakami   \n",
       "4603          Maria Johnsen   \n",
       "4824        Nataša Pantović   \n",
       "5809           Sass Cadeaux   \n",
       "5843   Stephen Christiansen   \n",
       "\n",
       "                                            Description  \\\n",
       "3737  \"Check out this official character and monster...   \n",
       "4603  You will find within this book Maria Johnsen's...   \n",
       "4824  Ama Dios, 4 AoL Consciousness Books Combined.A...   \n",
       "5809  Living a sequestered life in magical village n...   \n",
       "5843                                                NaN   \n",
       "\n",
       "                                       Genres  Avg_Rating Num_Ratings  \\\n",
       "3737                                       []         5.0           2   \n",
       "4603                                       []         5.0          11   \n",
       "4824  ['Philosophy', 'Spirituality', 'Adult']         5.0           6   \n",
       "5809                                       []         5.0          23   \n",
       "5843                                       []         5.0           2   \n",
       "\n",
       "                                                    URL  \n",
       "3737  https://www.goodreads.com/book/show/2114514.Jo...  \n",
       "4603  https://www.goodreads.com/book/show/20773953-t...  \n",
       "4824  https://www.goodreads.com/book/show/44015366-a...  \n",
       "5809  https://www.goodreads.com/book/show/17310646-t...  \n",
       "5843  https://www.goodreads.com/book/show/23353186-e...  "
      ]
     },
     "execution_count": 12,
     "metadata": {},
     "output_type": "execute_result"
    }
   ],
   "source": [
    "top_books.head()"
   ]
  },
  {
   "cell_type": "markdown",
   "id": "40ea251b",
   "metadata": {
    "azdata_cell_guid": "d45060f3-97bc-484a-9ef4-66145bbe9427"
   },
   "source": [
    "## Visualize\n",
    "\n",
    "Create any visualizations for your EDA here. Make note in the form of code comments of what your thought process is for your visualizations."
   ]
  },
  {
   "cell_type": "code",
   "execution_count": 13,
   "id": "2afcc126",
   "metadata": {
    "scrolled": false
   },
   "outputs": [
    {
     "data": {
      "text/plain": [
       "[]                                                                                            960\n",
       "['Fiction']                                                                                    49\n",
       "['Fantasy']                                                                                    42\n",
       "['Nonfiction']                                                                                 24\n",
       "['Romance']                                                                                    20\n",
       "['Poetry']                                                                                     18\n",
       "['Horror']                                                                                     15\n",
       "['Thriller', 'Fiction', 'Mystery', 'Crime', 'Action', 'Suspense', 'Mystery Thriller']          11\n",
       "['Fiction', 'Young Adult', 'Childrens', 'Middle Grade', 'Fantasy', 'Mystery', 'Adventure']     11\n",
       "['Self Help']                                                                                   9\n",
       "Name: Genres, dtype: int64"
      ]
     },
     "execution_count": 13,
     "metadata": {},
     "output_type": "execute_result"
    }
   ],
   "source": [
    "# get top 10 most common genres\n",
    "genre_count = df['Genres'].value_counts().head(10)\n",
    "genre_count"
   ]
  },
  {
   "cell_type": "markdown",
   "id": "8b0e5f98",
   "metadata": {},
   "source": [
    "The above output reveals that there was missing a significant amount of missing data in the Genres column. I will address this in the next checkpoint when I clean the data."
   ]
  },
  {
   "cell_type": "markdown",
   "id": "4b7da713",
   "metadata": {
    "azdata_cell_guid": "26037d32-2047-4157-81ef-595916bd66a0"
   },
   "source": [
    "# Checkpoint Three: Cleaning Data\n",
    "\n",
    "Now you are ready to clean your data. "
   ]
  },
  {
   "cell_type": "code",
   "execution_count": 14,
   "id": "dec6c6c9",
   "metadata": {},
   "outputs": [
    {
     "data": {
      "text/html": [
       "<div>\n",
       "<style scoped>\n",
       "    .dataframe tbody tr th:only-of-type {\n",
       "        vertical-align: middle;\n",
       "    }\n",
       "\n",
       "    .dataframe tbody tr th {\n",
       "        vertical-align: top;\n",
       "    }\n",
       "\n",
       "    .dataframe thead th {\n",
       "        text-align: right;\n",
       "    }\n",
       "</style>\n",
       "<table border=\"1\" class=\"dataframe\">\n",
       "  <thead>\n",
       "    <tr style=\"text-align: right;\">\n",
       "      <th></th>\n",
       "      <th>ID</th>\n",
       "      <th>Book</th>\n",
       "      <th>Author</th>\n",
       "      <th>Description</th>\n",
       "      <th>Genres</th>\n",
       "      <th>Avg_Rating</th>\n",
       "      <th>Num_Ratings</th>\n",
       "      <th>URL</th>\n",
       "    </tr>\n",
       "  </thead>\n",
       "  <tbody>\n",
       "    <tr>\n",
       "      <th>6249</th>\n",
       "      <td>6249</td>\n",
       "      <td>Solitaire</td>\n",
       "      <td>Alice Oseman</td>\n",
       "      <td>In case you’re wondering, this is not a love s...</td>\n",
       "      <td>['Young Adult', 'Contemporary', 'Romance', 'LG...</td>\n",
       "      <td>3.91</td>\n",
       "      <td>76,695</td>\n",
       "      <td>https://www.goodreads.com/book/show/20618110-s...</td>\n",
       "    </tr>\n",
       "    <tr>\n",
       "      <th>3787</th>\n",
       "      <td>3787</td>\n",
       "      <td>The Singularity is Coming: The Artificial Inte...</td>\n",
       "      <td>Tony  Thorne</td>\n",
       "      <td>The Singularity is Coming. Will humanity surv...</td>\n",
       "      <td>['Artificial Intelligence', 'Science', 'Nonfic...</td>\n",
       "      <td>4.30</td>\n",
       "      <td>56</td>\n",
       "      <td>https://www.goodreads.com/book/show/23791610-t...</td>\n",
       "    </tr>\n",
       "    <tr>\n",
       "      <th>2196</th>\n",
       "      <td>2196</td>\n",
       "      <td>Damned (Damned, #1)</td>\n",
       "      <td>Chuck Palahniuk</td>\n",
       "      <td>The newest Palahniuk novel concerns Madison, a...</td>\n",
       "      <td>['Fiction', 'Fantasy', 'Horror', 'Humor', 'Con...</td>\n",
       "      <td>3.39</td>\n",
       "      <td>52,538</td>\n",
       "      <td>https://www.goodreads.com/book/show/9912994-da...</td>\n",
       "    </tr>\n",
       "    <tr>\n",
       "      <th>7505</th>\n",
       "      <td>7505</td>\n",
       "      <td>Seriously... I'm Kidding</td>\n",
       "      <td>Ellen DeGeneres</td>\n",
       "      <td>\"Sometimes the greatest things are the most em...</td>\n",
       "      <td>['Nonfiction', 'Humor', 'Audiobook', 'Memoir',...</td>\n",
       "      <td>3.68</td>\n",
       "      <td>108,320</td>\n",
       "      <td>https://www.goodreads.com/book/show/11230081-s...</td>\n",
       "    </tr>\n",
       "    <tr>\n",
       "      <th>2303</th>\n",
       "      <td>2303</td>\n",
       "      <td>The Reptile Room (A Series of Unfortunate Even...</td>\n",
       "      <td>Lemony Snicket</td>\n",
       "      <td>Dear Reader,If you have picked up this book wi...</td>\n",
       "      <td>['Fiction', 'Young Adult', 'Childrens', 'Middl...</td>\n",
       "      <td>4.00</td>\n",
       "      <td>214,809</td>\n",
       "      <td>https://www.goodreads.com/book/show/78418.The_...</td>\n",
       "    </tr>\n",
       "    <tr>\n",
       "      <th>7372</th>\n",
       "      <td>7372</td>\n",
       "      <td>Mecanoscrit del segon origen</td>\n",
       "      <td>Manuel de Pedrolo</td>\n",
       "      <td>Amb el títol de \"Mecanoscrit del segon origen\"...</td>\n",
       "      <td>['Science Fiction', 'Fiction', 'Dystopia', 'Cl...</td>\n",
       "      <td>3.76</td>\n",
       "      <td>4,979</td>\n",
       "      <td>https://www.goodreads.com/book/show/594399.Mec...</td>\n",
       "    </tr>\n",
       "    <tr>\n",
       "      <th>910</th>\n",
       "      <td>910</td>\n",
       "      <td>Ender's Shadow (The Shadow Series, #1)</td>\n",
       "      <td>Orson Scott Card</td>\n",
       "      <td>Welcome to Battleschool.Growing up is never ea...</td>\n",
       "      <td>['Science Fiction', 'Fiction', 'Young Adult', ...</td>\n",
       "      <td>4.31</td>\n",
       "      <td>167,228</td>\n",
       "      <td>https://www.goodreads.com/book/show/9532.Ender...</td>\n",
       "    </tr>\n",
       "    <tr>\n",
       "      <th>9705</th>\n",
       "      <td>9705</td>\n",
       "      <td>You're Okay, It's Just a Bruise: A Doctor's Si...</td>\n",
       "      <td>MD Robert Huizenga</td>\n",
       "      <td>The dramatic, hilarious, and controversial ins...</td>\n",
       "      <td>['Sports', 'Football', 'Nonfiction', 'Autobiog...</td>\n",
       "      <td>4.13</td>\n",
       "      <td>236</td>\n",
       "      <td>https://www.goodreads.com/book/show/215119.You...</td>\n",
       "    </tr>\n",
       "    <tr>\n",
       "      <th>2398</th>\n",
       "      <td>2398</td>\n",
       "      <td>Imajica</td>\n",
       "      <td>Clive Barker</td>\n",
       "      <td>Imajica is an epic beyond compare: vast in con...</td>\n",
       "      <td>['Fantasy', 'Horror', 'Fiction', 'Science Fict...</td>\n",
       "      <td>4.17</td>\n",
       "      <td>22,427</td>\n",
       "      <td>https://www.goodreads.com/book/show/567704.Ima...</td>\n",
       "    </tr>\n",
       "    <tr>\n",
       "      <th>101</th>\n",
       "      <td>101</td>\n",
       "      <td>Great Expectations</td>\n",
       "      <td>Charles Dickens</td>\n",
       "      <td>Great Expectations charts the progress of Pip ...</td>\n",
       "      <td>['Classics', 'Fiction', 'Literature', 'Histori...</td>\n",
       "      <td>3.79</td>\n",
       "      <td>763,307</td>\n",
       "      <td>https://www.goodreads.com/book/show/2623.Great...</td>\n",
       "    </tr>\n",
       "  </tbody>\n",
       "</table>\n",
       "</div>"
      ],
      "text/plain": [
       "        ID                                               Book  \\\n",
       "6249  6249                                          Solitaire   \n",
       "3787  3787  The Singularity is Coming: The Artificial Inte...   \n",
       "2196  2196                                Damned (Damned, #1)   \n",
       "7505  7505                           Seriously... I'm Kidding   \n",
       "2303  2303  The Reptile Room (A Series of Unfortunate Even...   \n",
       "7372  7372                       Mecanoscrit del segon origen   \n",
       "910    910             Ender's Shadow (The Shadow Series, #1)   \n",
       "9705  9705  You're Okay, It's Just a Bruise: A Doctor's Si...   \n",
       "2398  2398                                            Imajica   \n",
       "101    101                                 Great Expectations   \n",
       "\n",
       "                  Author                                        Description  \\\n",
       "6249        Alice Oseman  In case you’re wondering, this is not a love s...   \n",
       "3787        Tony  Thorne   The Singularity is Coming. Will humanity surv...   \n",
       "2196     Chuck Palahniuk  The newest Palahniuk novel concerns Madison, a...   \n",
       "7505     Ellen DeGeneres  \"Sometimes the greatest things are the most em...   \n",
       "2303      Lemony Snicket  Dear Reader,If you have picked up this book wi...   \n",
       "7372   Manuel de Pedrolo  Amb el títol de \"Mecanoscrit del segon origen\"...   \n",
       "910     Orson Scott Card  Welcome to Battleschool.Growing up is never ea...   \n",
       "9705  MD Robert Huizenga  The dramatic, hilarious, and controversial ins...   \n",
       "2398        Clive Barker  Imajica is an epic beyond compare: vast in con...   \n",
       "101      Charles Dickens  Great Expectations charts the progress of Pip ...   \n",
       "\n",
       "                                                 Genres  Avg_Rating  \\\n",
       "6249  ['Young Adult', 'Contemporary', 'Romance', 'LG...        3.91   \n",
       "3787  ['Artificial Intelligence', 'Science', 'Nonfic...        4.30   \n",
       "2196  ['Fiction', 'Fantasy', 'Horror', 'Humor', 'Con...        3.39   \n",
       "7505  ['Nonfiction', 'Humor', 'Audiobook', 'Memoir',...        3.68   \n",
       "2303  ['Fiction', 'Young Adult', 'Childrens', 'Middl...        4.00   \n",
       "7372  ['Science Fiction', 'Fiction', 'Dystopia', 'Cl...        3.76   \n",
       "910   ['Science Fiction', 'Fiction', 'Young Adult', ...        4.31   \n",
       "9705  ['Sports', 'Football', 'Nonfiction', 'Autobiog...        4.13   \n",
       "2398  ['Fantasy', 'Horror', 'Fiction', 'Science Fict...        4.17   \n",
       "101   ['Classics', 'Fiction', 'Literature', 'Histori...        3.79   \n",
       "\n",
       "     Num_Ratings                                                URL  \n",
       "6249      76,695  https://www.goodreads.com/book/show/20618110-s...  \n",
       "3787          56  https://www.goodreads.com/book/show/23791610-t...  \n",
       "2196      52,538  https://www.goodreads.com/book/show/9912994-da...  \n",
       "7505     108,320  https://www.goodreads.com/book/show/11230081-s...  \n",
       "2303     214,809  https://www.goodreads.com/book/show/78418.The_...  \n",
       "7372       4,979  https://www.goodreads.com/book/show/594399.Mec...  \n",
       "910      167,228  https://www.goodreads.com/book/show/9532.Ender...  \n",
       "9705         236  https://www.goodreads.com/book/show/215119.You...  \n",
       "2398      22,427  https://www.goodreads.com/book/show/567704.Ima...  \n",
       "101      763,307  https://www.goodreads.com/book/show/2623.Great...  "
      ]
     },
     "execution_count": 14,
     "metadata": {},
     "output_type": "execute_result"
    }
   ],
   "source": [
    "# run a sample to check for any data problems\n",
    "df.sample(10)"
   ]
  },
  {
   "cell_type": "markdown",
   "id": "e9da22ad",
   "metadata": {
    "azdata_cell_guid": "e172475a-c4ee-414a-8367-9965355dbba6"
   },
   "source": [
    "## Missing Data\n",
    "\n",
    "Test your dataset for missing data and handle it as needed. Make notes in the form of code comments as to your thought process."
   ]
  },
  {
   "cell_type": "code",
   "execution_count": 15,
   "id": "d0947a93",
   "metadata": {
    "scrolled": true
   },
   "outputs": [
    {
     "data": {
      "text/plain": [
       "[]                                                                                            960\n",
       "['Fiction']                                                                                    49\n",
       "['Fantasy']                                                                                    42\n",
       "['Nonfiction']                                                                                 24\n",
       "['Romance']                                                                                    20\n",
       "['Poetry']                                                                                     18\n",
       "['Horror']                                                                                     15\n",
       "['Thriller', 'Fiction', 'Mystery', 'Crime', 'Action', 'Suspense', 'Mystery Thriller']          11\n",
       "['Fiction', 'Young Adult', 'Childrens', 'Middle Grade', 'Fantasy', 'Mystery', 'Adventure']     11\n",
       "['Self Help']                                                                                   9\n",
       "Name: Genres, dtype: int64"
      ]
     },
     "execution_count": 15,
     "metadata": {},
     "output_type": "execute_result"
    }
   ],
   "source": [
    "# know that the Genre column needs some cleaning:\n",
    "genre_count = df['Genres'].value_counts().head(10)\n",
    "genre_count"
   ]
  },
  {
   "cell_type": "code",
   "execution_count": 16,
   "id": "e9391ba9",
   "metadata": {
    "scrolled": true
   },
   "outputs": [],
   "source": [
    "# replace null value '[]' with NaN\n",
    "df['Genres']=df[\"Genres\"].replace('[]',np.NaN)"
   ]
  },
  {
   "cell_type": "code",
   "execution_count": 17,
   "id": "ad24d75e",
   "metadata": {
    "scrolled": false
   },
   "outputs": [
    {
     "data": {
      "text/plain": [
       "['Fiction']                                                                                   49\n",
       "['Fantasy']                                                                                   42\n",
       "['Nonfiction']                                                                                24\n",
       "['Romance']                                                                                   20\n",
       "['Poetry']                                                                                    18\n",
       "['Horror']                                                                                    15\n",
       "['Thriller', 'Fiction', 'Mystery', 'Crime', 'Action', 'Suspense', 'Mystery Thriller']         11\n",
       "['Fiction', 'Young Adult', 'Childrens', 'Middle Grade', 'Fantasy', 'Mystery', 'Adventure']    11\n",
       "['Self Help']                                                                                  9\n",
       "['Young Adult']                                                                                9\n",
       "Name: Genres, dtype: int64"
      ]
     },
     "execution_count": 17,
     "metadata": {},
     "output_type": "execute_result"
    }
   ],
   "source": [
    "# see if that worked\n",
    "genre_count = df['Genres'].value_counts().head(10)\n",
    "genre_count"
   ]
  },
  {
   "cell_type": "code",
   "execution_count": 18,
   "id": "600e30a1",
   "metadata": {
    "azdata_cell_guid": "e1dc66ef-e471-4c27-92e7-ee878c106eba",
    "scrolled": true
   },
   "outputs": [
    {
     "data": {
      "text/plain": [
       "<Axes: >"
      ]
     },
     "execution_count": 18,
     "metadata": {},
     "output_type": "execute_result"
    },
    {
     "data": {
      "image/png": "[encoded data removed]",
      "text/plain": [
       "<Figure size 640x480 with 2 Axes>"
      ]
     },
     "metadata": {},
     "output_type": "display_data"
    }
   ],
   "source": [
    "# Plot a heatmap of any missing data\n",
    "cols = df.columns[:30] # first 30 columns\n",
    "colors = ['#000099', '#ffff00'] # specify the colors - yellow is missing. blue is not missing.\n",
    "sns.heatmap(df[cols].isnull(), cmap=sns.color_palette(colors))"
   ]
  },
  {
   "cell_type": "code",
   "execution_count": 19,
   "id": "36027728",
   "metadata": {},
   "outputs": [
    {
     "name": "stdout",
     "output_type": "stream",
     "text": [
      "ID - 0%\n",
      "Book - 0%\n",
      "Author - 0%\n",
      "Description - 1%\n",
      "Genres - 10%\n",
      "Avg_Rating - 0%\n",
      "Num_Ratings - 0%\n",
      "URL - 0%\n"
     ]
    }
   ],
   "source": [
    "# Try out a missing data percentage list! \n",
    "# if it's a larger dataset and the visualization takes too long can do this.\n",
    "# % of missing.\n",
    "for col in df.columns:\n",
    "    pct_missing = np.mean(df[col].isnull())\n",
    "    print('{} - {}%'.format(col, round(pct_missing*100)))"
   ]
  },
  {
   "cell_type": "markdown",
   "id": "12e70547",
   "metadata": {
    "azdata_cell_guid": "1233f543-e9a0-4f78-96f5-d7536554102e"
   },
   "source": [
    "## Irregular Data\n",
    "\n",
    "Detect outliers in your dataset and handle them as needed. Use code comments to make notes about your thought process."
   ]
  },
  {
   "cell_type": "code",
   "execution_count": 20,
   "id": "35819021",
   "metadata": {
    "azdata_cell_guid": "efed50ae-16f0-471d-98e2-632553a74c12",
    "scrolled": true
   },
   "outputs": [
    {
     "data": {
      "text/plain": [
       "<Axes: >"
      ]
     },
     "execution_count": 20,
     "metadata": {},
     "output_type": "execute_result"
    },
    {
     "data": {
      "image/png": "[encoded data removed]",
      "text/plain": [
       "<Figure size 640x480 with 1 Axes>"
      ]
     },
     "metadata": {},
     "output_type": "display_data"
    }
   ],
   "source": [
    "# Plot a histogram to see if there are any outliers.\n",
    "df[\"Avg_Rating\"].hist(bins=50)"
   ]
  },
  {
   "cell_type": "code",
   "execution_count": 21,
   "id": "ae048aae",
   "metadata": {
    "scrolled": true
   },
   "outputs": [
    {
     "data": {
      "text/plain": [
       "count    10000.000000\n",
       "mean         4.068577\n",
       "std          0.335359\n",
       "min          0.000000\n",
       "25%          3.880000\n",
       "50%          4.080000\n",
       "75%          4.260000\n",
       "max          5.000000\n",
       "Name: Avg_Rating, dtype: float64"
      ]
     },
     "execution_count": 21,
     "metadata": {},
     "output_type": "execute_result"
    }
   ],
   "source": [
    "# Use the describe() method\n",
    "df[\"Avg_Rating\"].describe()"
   ]
  },
  {
   "cell_type": "markdown",
   "id": "e638aff7",
   "metadata": {},
   "source": [
    "This means there is a book with a 0 score on average rating, which appears to be an outlier. "
   ]
  },
  {
   "cell_type": "markdown",
   "id": "dd991956",
   "metadata": {
    "azdata_cell_guid": "6f5b8ee0-bab3-44bc-958a-67d1e4c0407f"
   },
   "source": [
    "## Unnecessary Data\n",
    "\n",
    "Look for the different types of unnecessary data in your dataset and address it as needed. Make sure to use code comments to illustrate your thought process."
   ]
  },
  {
   "cell_type": "code",
   "execution_count": 22,
   "id": "f1ad0fa2",
   "metadata": {
    "azdata_cell_guid": "e788a239-2fbf-41de-9bd3-19e52e3b187c",
    "scrolled": false
   },
   "outputs": [
    {
     "name": "stdout",
     "output_type": "stream",
     "text": [
      "Number of duplicated rows:  (0, 8)\n"
     ]
    }
   ],
   "source": [
    "# check for duplicate rows\n",
    "duplicate_rows_df = df[df.duplicated()]\n",
    "print(\"Number of duplicated rows: \", duplicate_rows_df.shape)"
   ]
  },
  {
   "cell_type": "markdown",
   "id": "a659c26f",
   "metadata": {
    "azdata_cell_guid": "53e0cf94-c68a-4fa0-9849-9505a66bcce6"
   },
   "source": [
    "## Inconsistent Data\n",
    "\n",
    "Check for inconsistent data and address any that arises. As always, use code comments to illustrate your thought process."
   ]
  },
  {
   "cell_type": "code",
   "execution_count": 23,
   "id": "2aa6c0ad",
   "metadata": {},
   "outputs": [
    {
     "data": {
      "text/plain": [
       "5112    ['Paranormal', 'Paranormal Romance', 'Fantasy'...\n",
       "9158                                                  NaN\n",
       "4137                                          ['Romance']\n",
       "8008    ['Nonfiction', 'Self Help', 'Business', 'Perso...\n",
       "2789    ['Science', 'Nonfiction', 'Physics', 'Astronom...\n",
       "2461    ['Classics', 'Fairy Tales', 'Fantasy', 'Fictio...\n",
       "4268    ['Mystery', 'Fiction', 'Japan', 'Crime', 'Thri...\n",
       "1684    ['Nonfiction', 'School', 'Books About Books', ...\n",
       "6276    ['China', 'History', 'Nonfiction', 'Memoir', '...\n",
       "3862    ['Science Fiction', 'Thriller', 'Fiction', 'Ho...\n",
       "Name: Genres, dtype: object"
      ]
     },
     "execution_count": 23,
     "metadata": {},
     "output_type": "execute_result"
    }
   ],
   "source": [
    "df['Genres'].sample(10)"
   ]
  },
  {
   "cell_type": "code",
   "execution_count": 24,
   "id": "4ba08a34",
   "metadata": {
    "scrolled": false
   },
   "outputs": [
    {
     "data": {
      "text/html": [
       "<div>\n",
       "<style scoped>\n",
       "    .dataframe tbody tr th:only-of-type {\n",
       "        vertical-align: middle;\n",
       "    }\n",
       "\n",
       "    .dataframe tbody tr th {\n",
       "        vertical-align: top;\n",
       "    }\n",
       "\n",
       "    .dataframe thead th {\n",
       "        text-align: right;\n",
       "    }\n",
       "</style>\n",
       "<table border=\"1\" class=\"dataframe\">\n",
       "  <thead>\n",
       "    <tr style=\"text-align: right;\">\n",
       "      <th></th>\n",
       "      <th>ID</th>\n",
       "      <th>Genres</th>\n",
       "      <th>Avg_Rating</th>\n",
       "      <th>Num_Ratings</th>\n",
       "      <th>Book</th>\n",
       "      <th>Author</th>\n",
       "      <th>Description</th>\n",
       "    </tr>\n",
       "  </thead>\n",
       "  <tbody>\n",
       "    <tr>\n",
       "      <th>0</th>\n",
       "      <td>0</td>\n",
       "      <td>['Classics', 'Fiction', 'Historical Fiction', ...</td>\n",
       "      <td>4.27</td>\n",
       "      <td>5,691,311</td>\n",
       "      <td>To Kill a Mockingbird</td>\n",
       "      <td>Harper Lee</td>\n",
       "      <td>The unforgettable novel of a childhood in a sl...</td>\n",
       "    </tr>\n",
       "    <tr>\n",
       "      <th>1</th>\n",
       "      <td>1</td>\n",
       "      <td>['Fantasy', 'Fiction', 'Young Adult', 'Magic',...</td>\n",
       "      <td>4.47</td>\n",
       "      <td>9,278,135</td>\n",
       "      <td>Harry Potter and the Philosopher’s Stone (Harr...</td>\n",
       "      <td>J.K. Rowling</td>\n",
       "      <td>Harry Potter thinks he is an ordinary boy - un...</td>\n",
       "    </tr>\n",
       "    <tr>\n",
       "      <th>2</th>\n",
       "      <td>2</td>\n",
       "      <td>['Classics', 'Fiction', 'Romance', 'Historical...</td>\n",
       "      <td>4.28</td>\n",
       "      <td>3,944,155</td>\n",
       "      <td>Pride and Prejudice</td>\n",
       "      <td>Jane Austen</td>\n",
       "      <td>Since its immediate success in 1813, Pride and...</td>\n",
       "    </tr>\n",
       "    <tr>\n",
       "      <th>3</th>\n",
       "      <td>3</td>\n",
       "      <td>['Classics', 'Nonfiction', 'History', 'Biograp...</td>\n",
       "      <td>4.18</td>\n",
       "      <td>3,488,438</td>\n",
       "      <td>The Diary of a Young Girl</td>\n",
       "      <td>Anne Frank</td>\n",
       "      <td>Discovered in the attic in which she spent the...</td>\n",
       "    </tr>\n",
       "    <tr>\n",
       "      <th>4</th>\n",
       "      <td>4</td>\n",
       "      <td>['Classics', 'Fiction', 'Dystopia', 'Fantasy',...</td>\n",
       "      <td>3.98</td>\n",
       "      <td>3,575,172</td>\n",
       "      <td>Animal Farm</td>\n",
       "      <td>George Orwell</td>\n",
       "      <td>Librarian's note: There is an Alternate Cover ...</td>\n",
       "    </tr>\n",
       "  </tbody>\n",
       "</table>\n",
       "</div>"
      ],
      "text/plain": [
       "   ID                                             Genres  Avg_Rating  \\\n",
       "0   0  ['Classics', 'Fiction', 'Historical Fiction', ...        4.27   \n",
       "1   1  ['Fantasy', 'Fiction', 'Young Adult', 'Magic',...        4.47   \n",
       "2   2  ['Classics', 'Fiction', 'Romance', 'Historical...        4.28   \n",
       "3   3  ['Classics', 'Nonfiction', 'History', 'Biograp...        4.18   \n",
       "4   4  ['Classics', 'Fiction', 'Dystopia', 'Fantasy',...        3.98   \n",
       "\n",
       "  Num_Ratings                                               Book  \\\n",
       "0   5,691,311                              To Kill a Mockingbird   \n",
       "1   9,278,135  Harry Potter and the Philosopher’s Stone (Harr...   \n",
       "2   3,944,155                                Pride and Prejudice   \n",
       "3   3,488,438                          The Diary of a Young Girl   \n",
       "4   3,575,172                                        Animal Farm   \n",
       "\n",
       "          Author                                        Description  \n",
       "0     Harper Lee  The unforgettable novel of a childhood in a sl...  \n",
       "1   J.K. Rowling  Harry Potter thinks he is an ordinary boy - un...  \n",
       "2    Jane Austen  Since its immediate success in 1813, Pride and...  \n",
       "3     Anne Frank  Discovered in the attic in which she spent the...  \n",
       "4  George Orwell  Librarian's note: There is an Alternate Cover ...  "
      ]
     },
     "execution_count": 24,
     "metadata": {},
     "output_type": "execute_result"
    }
   ],
   "source": [
    "# make a new dataframe for data manipulation with ID, genres, avg rating, num of ratings, book, description, author\n",
    "df1 = df[['ID','Genres','Avg_Rating','Num_Ratings','Book','Author','Description']].copy()\n",
    "df1.head()"
   ]
  },
  {
   "cell_type": "code",
   "execution_count": 25,
   "id": "30f5987a",
   "metadata": {},
   "outputs": [],
   "source": [
    "df1['Genres'] = df1['Genres'].str.split(',')"
   ]
  },
  {
   "cell_type": "code",
   "execution_count": 26,
   "id": "a4aac564",
   "metadata": {},
   "outputs": [
    {
     "data": {
      "text/html": [
       "<div>\n",
       "<style scoped>\n",
       "    .dataframe tbody tr th:only-of-type {\n",
       "        vertical-align: middle;\n",
       "    }\n",
       "\n",
       "    .dataframe tbody tr th {\n",
       "        vertical-align: top;\n",
       "    }\n",
       "\n",
       "    .dataframe thead th {\n",
       "        text-align: right;\n",
       "    }\n",
       "</style>\n",
       "<table border=\"1\" class=\"dataframe\">\n",
       "  <thead>\n",
       "    <tr style=\"text-align: right;\">\n",
       "      <th></th>\n",
       "      <th>ID</th>\n",
       "      <th>Genres</th>\n",
       "      <th>Avg_Rating</th>\n",
       "      <th>Num_Ratings</th>\n",
       "      <th>Book</th>\n",
       "      <th>Author</th>\n",
       "      <th>Description</th>\n",
       "    </tr>\n",
       "  </thead>\n",
       "  <tbody>\n",
       "    <tr>\n",
       "      <th>0</th>\n",
       "      <td>0</td>\n",
       "      <td>['Classics'</td>\n",
       "      <td>4.27</td>\n",
       "      <td>5,691,311</td>\n",
       "      <td>To Kill a Mockingbird</td>\n",
       "      <td>Harper Lee</td>\n",
       "      <td>The unforgettable novel of a childhood in a sl...</td>\n",
       "    </tr>\n",
       "    <tr>\n",
       "      <th>0</th>\n",
       "      <td>0</td>\n",
       "      <td>'Fiction'</td>\n",
       "      <td>4.27</td>\n",
       "      <td>5,691,311</td>\n",
       "      <td>To Kill a Mockingbird</td>\n",
       "      <td>Harper Lee</td>\n",
       "      <td>The unforgettable novel of a childhood in a sl...</td>\n",
       "    </tr>\n",
       "    <tr>\n",
       "      <th>0</th>\n",
       "      <td>0</td>\n",
       "      <td>'Historical Fiction'</td>\n",
       "      <td>4.27</td>\n",
       "      <td>5,691,311</td>\n",
       "      <td>To Kill a Mockingbird</td>\n",
       "      <td>Harper Lee</td>\n",
       "      <td>The unforgettable novel of a childhood in a sl...</td>\n",
       "    </tr>\n",
       "    <tr>\n",
       "      <th>0</th>\n",
       "      <td>0</td>\n",
       "      <td>'School'</td>\n",
       "      <td>4.27</td>\n",
       "      <td>5,691,311</td>\n",
       "      <td>To Kill a Mockingbird</td>\n",
       "      <td>Harper Lee</td>\n",
       "      <td>The unforgettable novel of a childhood in a sl...</td>\n",
       "    </tr>\n",
       "    <tr>\n",
       "      <th>0</th>\n",
       "      <td>0</td>\n",
       "      <td>'Literature'</td>\n",
       "      <td>4.27</td>\n",
       "      <td>5,691,311</td>\n",
       "      <td>To Kill a Mockingbird</td>\n",
       "      <td>Harper Lee</td>\n",
       "      <td>The unforgettable novel of a childhood in a sl...</td>\n",
       "    </tr>\n",
       "    <tr>\n",
       "      <th>...</th>\n",
       "      <td>...</td>\n",
       "      <td>...</td>\n",
       "      <td>...</td>\n",
       "      <td>...</td>\n",
       "      <td>...</td>\n",
       "      <td>...</td>\n",
       "      <td>...</td>\n",
       "    </tr>\n",
       "    <tr>\n",
       "      <th>9998</th>\n",
       "      <td>9998</td>\n",
       "      <td>['New Adult'</td>\n",
       "      <td>4.13</td>\n",
       "      <td>263</td>\n",
       "      <td>Waking Up (Healing Hearts, #1)</td>\n",
       "      <td>Renee Dyer</td>\n",
       "      <td>For Adriana Monroe life couldn’t get any bette...</td>\n",
       "    </tr>\n",
       "    <tr>\n",
       "      <th>9998</th>\n",
       "      <td>9998</td>\n",
       "      <td>'Romance'</td>\n",
       "      <td>4.13</td>\n",
       "      <td>263</td>\n",
       "      <td>Waking Up (Healing Hearts, #1)</td>\n",
       "      <td>Renee Dyer</td>\n",
       "      <td>For Adriana Monroe life couldn’t get any bette...</td>\n",
       "    </tr>\n",
       "    <tr>\n",
       "      <th>9998</th>\n",
       "      <td>9998</td>\n",
       "      <td>'Contemporary Romance'</td>\n",
       "      <td>4.13</td>\n",
       "      <td>263</td>\n",
       "      <td>Waking Up (Healing Hearts, #1)</td>\n",
       "      <td>Renee Dyer</td>\n",
       "      <td>For Adriana Monroe life couldn’t get any bette...</td>\n",
       "    </tr>\n",
       "    <tr>\n",
       "      <th>9998</th>\n",
       "      <td>9998</td>\n",
       "      <td>'Contemporary']</td>\n",
       "      <td>4.13</td>\n",
       "      <td>263</td>\n",
       "      <td>Waking Up (Healing Hearts, #1)</td>\n",
       "      <td>Renee Dyer</td>\n",
       "      <td>For Adriana Monroe life couldn’t get any bette...</td>\n",
       "    </tr>\n",
       "    <tr>\n",
       "      <th>9999</th>\n",
       "      <td>9999</td>\n",
       "      <td>NaN</td>\n",
       "      <td>5.00</td>\n",
       "      <td>36</td>\n",
       "      <td>Bits and Pieces: Tales and Sonnets</td>\n",
       "      <td>Jas T. Ward</td>\n",
       "      <td>After demands of thousands of fans in various ...</td>\n",
       "    </tr>\n",
       "  </tbody>\n",
       "</table>\n",
       "<p>58923 rows × 7 columns</p>\n",
       "</div>"
      ],
      "text/plain": [
       "        ID                   Genres  Avg_Rating Num_Ratings  \\\n",
       "0        0              ['Classics'        4.27   5,691,311   \n",
       "0        0                'Fiction'        4.27   5,691,311   \n",
       "0        0     'Historical Fiction'        4.27   5,691,311   \n",
       "0        0                 'School'        4.27   5,691,311   \n",
       "0        0             'Literature'        4.27   5,691,311   \n",
       "...    ...                      ...         ...         ...   \n",
       "9998  9998             ['New Adult'        4.13         263   \n",
       "9998  9998                'Romance'        4.13         263   \n",
       "9998  9998   'Contemporary Romance'        4.13         263   \n",
       "9998  9998          'Contemporary']        4.13         263   \n",
       "9999  9999                      NaN        5.00          36   \n",
       "\n",
       "                                    Book       Author  \\\n",
       "0                  To Kill a Mockingbird   Harper Lee   \n",
       "0                  To Kill a Mockingbird   Harper Lee   \n",
       "0                  To Kill a Mockingbird   Harper Lee   \n",
       "0                  To Kill a Mockingbird   Harper Lee   \n",
       "0                  To Kill a Mockingbird   Harper Lee   \n",
       "...                                  ...          ...   \n",
       "9998      Waking Up (Healing Hearts, #1)   Renee Dyer   \n",
       "9998      Waking Up (Healing Hearts, #1)   Renee Dyer   \n",
       "9998      Waking Up (Healing Hearts, #1)   Renee Dyer   \n",
       "9998      Waking Up (Healing Hearts, #1)   Renee Dyer   \n",
       "9999  Bits and Pieces: Tales and Sonnets  Jas T. Ward   \n",
       "\n",
       "                                            Description  \n",
       "0     The unforgettable novel of a childhood in a sl...  \n",
       "0     The unforgettable novel of a childhood in a sl...  \n",
       "0     The unforgettable novel of a childhood in a sl...  \n",
       "0     The unforgettable novel of a childhood in a sl...  \n",
       "0     The unforgettable novel of a childhood in a sl...  \n",
       "...                                                 ...  \n",
       "9998  For Adriana Monroe life couldn’t get any bette...  \n",
       "9998  For Adriana Monroe life couldn’t get any bette...  \n",
       "9998  For Adriana Monroe life couldn’t get any bette...  \n",
       "9998  For Adriana Monroe life couldn’t get any bette...  \n",
       "9999  After demands of thousands of fans in various ...  \n",
       "\n",
       "[58923 rows x 7 columns]"
      ]
     },
     "execution_count": 26,
     "metadata": {},
     "output_type": "execute_result"
    }
   ],
   "source": [
    "df1 = df1.explode('Genres')\n",
    "df1"
   ]
  },
  {
   "cell_type": "code",
   "execution_count": 27,
   "id": "68919614",
   "metadata": {
    "scrolled": true
   },
   "outputs": [
    {
     "name": "stderr",
     "output_type": "stream",
     "text": [
      "C:\\Users\\johan\\AppData\\Local\\Temp\\ipykernel_5940\\2532118343.py:2: FutureWarning: The default value of regex will change from True to False in a future version. In addition, single character regular expressions will *not* be treated as literal strings when regex=True.\n",
      "  df1['Genres']=df1['Genres'].str.replace('[','')\n",
      "C:\\Users\\johan\\AppData\\Local\\Temp\\ipykernel_5940\\2532118343.py:3: FutureWarning: The default value of regex will change from True to False in a future version. In addition, single character regular expressions will *not* be treated as literal strings when regex=True.\n",
      "  df1['Genres']=df1['Genres'].str.replace(']','')\n"
     ]
    },
    {
     "data": {
      "text/html": [
       "<div>\n",
       "<style scoped>\n",
       "    .dataframe tbody tr th:only-of-type {\n",
       "        vertical-align: middle;\n",
       "    }\n",
       "\n",
       "    .dataframe tbody tr th {\n",
       "        vertical-align: top;\n",
       "    }\n",
       "\n",
       "    .dataframe thead th {\n",
       "        text-align: right;\n",
       "    }\n",
       "</style>\n",
       "<table border=\"1\" class=\"dataframe\">\n",
       "  <thead>\n",
       "    <tr style=\"text-align: right;\">\n",
       "      <th></th>\n",
       "      <th>ID</th>\n",
       "      <th>Genres</th>\n",
       "      <th>Avg_Rating</th>\n",
       "      <th>Num_Ratings</th>\n",
       "      <th>Book</th>\n",
       "      <th>Author</th>\n",
       "      <th>Description</th>\n",
       "    </tr>\n",
       "  </thead>\n",
       "  <tbody>\n",
       "    <tr>\n",
       "      <th>0</th>\n",
       "      <td>0</td>\n",
       "      <td>Classics</td>\n",
       "      <td>4.27</td>\n",
       "      <td>5,691,311</td>\n",
       "      <td>To Kill a Mockingbird</td>\n",
       "      <td>Harper Lee</td>\n",
       "      <td>The unforgettable novel of a childhood in a sl...</td>\n",
       "    </tr>\n",
       "    <tr>\n",
       "      <th>0</th>\n",
       "      <td>0</td>\n",
       "      <td>Fiction</td>\n",
       "      <td>4.27</td>\n",
       "      <td>5,691,311</td>\n",
       "      <td>To Kill a Mockingbird</td>\n",
       "      <td>Harper Lee</td>\n",
       "      <td>The unforgettable novel of a childhood in a sl...</td>\n",
       "    </tr>\n",
       "    <tr>\n",
       "      <th>0</th>\n",
       "      <td>0</td>\n",
       "      <td>Historical Fiction</td>\n",
       "      <td>4.27</td>\n",
       "      <td>5,691,311</td>\n",
       "      <td>To Kill a Mockingbird</td>\n",
       "      <td>Harper Lee</td>\n",
       "      <td>The unforgettable novel of a childhood in a sl...</td>\n",
       "    </tr>\n",
       "    <tr>\n",
       "      <th>0</th>\n",
       "      <td>0</td>\n",
       "      <td>School</td>\n",
       "      <td>4.27</td>\n",
       "      <td>5,691,311</td>\n",
       "      <td>To Kill a Mockingbird</td>\n",
       "      <td>Harper Lee</td>\n",
       "      <td>The unforgettable novel of a childhood in a sl...</td>\n",
       "    </tr>\n",
       "    <tr>\n",
       "      <th>0</th>\n",
       "      <td>0</td>\n",
       "      <td>Literature</td>\n",
       "      <td>4.27</td>\n",
       "      <td>5,691,311</td>\n",
       "      <td>To Kill a Mockingbird</td>\n",
       "      <td>Harper Lee</td>\n",
       "      <td>The unforgettable novel of a childhood in a sl...</td>\n",
       "    </tr>\n",
       "    <tr>\n",
       "      <th>...</th>\n",
       "      <td>...</td>\n",
       "      <td>...</td>\n",
       "      <td>...</td>\n",
       "      <td>...</td>\n",
       "      <td>...</td>\n",
       "      <td>...</td>\n",
       "      <td>...</td>\n",
       "    </tr>\n",
       "    <tr>\n",
       "      <th>9998</th>\n",
       "      <td>9998</td>\n",
       "      <td>New Adult</td>\n",
       "      <td>4.13</td>\n",
       "      <td>263</td>\n",
       "      <td>Waking Up (Healing Hearts, #1)</td>\n",
       "      <td>Renee Dyer</td>\n",
       "      <td>For Adriana Monroe life couldn’t get any bette...</td>\n",
       "    </tr>\n",
       "    <tr>\n",
       "      <th>9998</th>\n",
       "      <td>9998</td>\n",
       "      <td>Romance</td>\n",
       "      <td>4.13</td>\n",
       "      <td>263</td>\n",
       "      <td>Waking Up (Healing Hearts, #1)</td>\n",
       "      <td>Renee Dyer</td>\n",
       "      <td>For Adriana Monroe life couldn’t get any bette...</td>\n",
       "    </tr>\n",
       "    <tr>\n",
       "      <th>9998</th>\n",
       "      <td>9998</td>\n",
       "      <td>Contemporary Romance</td>\n",
       "      <td>4.13</td>\n",
       "      <td>263</td>\n",
       "      <td>Waking Up (Healing Hearts, #1)</td>\n",
       "      <td>Renee Dyer</td>\n",
       "      <td>For Adriana Monroe life couldn’t get any bette...</td>\n",
       "    </tr>\n",
       "    <tr>\n",
       "      <th>9998</th>\n",
       "      <td>9998</td>\n",
       "      <td>Contemporary</td>\n",
       "      <td>4.13</td>\n",
       "      <td>263</td>\n",
       "      <td>Waking Up (Healing Hearts, #1)</td>\n",
       "      <td>Renee Dyer</td>\n",
       "      <td>For Adriana Monroe life couldn’t get any bette...</td>\n",
       "    </tr>\n",
       "    <tr>\n",
       "      <th>9999</th>\n",
       "      <td>9999</td>\n",
       "      <td>NaN</td>\n",
       "      <td>5.00</td>\n",
       "      <td>36</td>\n",
       "      <td>Bits and Pieces: Tales and Sonnets</td>\n",
       "      <td>Jas T. Ward</td>\n",
       "      <td>After demands of thousands of fans in various ...</td>\n",
       "    </tr>\n",
       "  </tbody>\n",
       "</table>\n",
       "<p>58923 rows × 7 columns</p>\n",
       "</div>"
      ],
      "text/plain": [
       "        ID                Genres  Avg_Rating Num_Ratings  \\\n",
       "0        0              Classics        4.27   5,691,311   \n",
       "0        0               Fiction        4.27   5,691,311   \n",
       "0        0    Historical Fiction        4.27   5,691,311   \n",
       "0        0                School        4.27   5,691,311   \n",
       "0        0            Literature        4.27   5,691,311   \n",
       "...    ...                   ...         ...         ...   \n",
       "9998  9998             New Adult        4.13         263   \n",
       "9998  9998               Romance        4.13         263   \n",
       "9998  9998  Contemporary Romance        4.13         263   \n",
       "9998  9998          Contemporary        4.13         263   \n",
       "9999  9999                   NaN        5.00          36   \n",
       "\n",
       "                                    Book       Author  \\\n",
       "0                  To Kill a Mockingbird   Harper Lee   \n",
       "0                  To Kill a Mockingbird   Harper Lee   \n",
       "0                  To Kill a Mockingbird   Harper Lee   \n",
       "0                  To Kill a Mockingbird   Harper Lee   \n",
       "0                  To Kill a Mockingbird   Harper Lee   \n",
       "...                                  ...          ...   \n",
       "9998      Waking Up (Healing Hearts, #1)   Renee Dyer   \n",
       "9998      Waking Up (Healing Hearts, #1)   Renee Dyer   \n",
       "9998      Waking Up (Healing Hearts, #1)   Renee Dyer   \n",
       "9998      Waking Up (Healing Hearts, #1)   Renee Dyer   \n",
       "9999  Bits and Pieces: Tales and Sonnets  Jas T. Ward   \n",
       "\n",
       "                                            Description  \n",
       "0     The unforgettable novel of a childhood in a sl...  \n",
       "0     The unforgettable novel of a childhood in a sl...  \n",
       "0     The unforgettable novel of a childhood in a sl...  \n",
       "0     The unforgettable novel of a childhood in a sl...  \n",
       "0     The unforgettable novel of a childhood in a sl...  \n",
       "...                                                 ...  \n",
       "9998  For Adriana Monroe life couldn’t get any bette...  \n",
       "9998  For Adriana Monroe life couldn’t get any bette...  \n",
       "9998  For Adriana Monroe life couldn’t get any bette...  \n",
       "9998  For Adriana Monroe life couldn’t get any bette...  \n",
       "9999  After demands of thousands of fans in various ...  \n",
       "\n",
       "[58923 rows x 7 columns]"
      ]
     },
     "execution_count": 27,
     "metadata": {},
     "output_type": "execute_result"
    }
   ],
   "source": [
    "# clean the column to remove unnecessary punctuation\n",
    "df1['Genres']=df1['Genres'].str.replace('[','')\n",
    "df1['Genres']=df1['Genres'].str.replace(']','')\n",
    "df1['Genres']=df1['Genres'].str.replace(\"'\",'')\n",
    "df1['Genres']=df1['Genres'].str.replace(\"'\",'')\n",
    "df1['Genres']=df1['Genres'].str.strip()\n",
    "# check to make sure that worked\n",
    "df1"
   ]
  },
  {
   "cell_type": "code",
   "execution_count": 28,
   "id": "5059132d",
   "metadata": {},
   "outputs": [
    {
     "name": "stdout",
     "output_type": "stream",
     "text": [
      "ID - 0%\n",
      "Genres - 2%\n",
      "Avg_Rating - 0%\n",
      "Num_Ratings - 0%\n",
      "Book - 0%\n",
      "Author - 0%\n",
      "Description - 0%\n"
     ]
    }
   ],
   "source": [
    "# check how much Genres data is missing\n",
    "for col in df1.columns:\n",
    "    pct_missing = np.mean(df1[col].isnull())\n",
    "    print('{} - {}%'.format(col, round(pct_missing*100)))"
   ]
  },
  {
   "cell_type": "code",
   "execution_count": 29,
   "id": "94265b82",
   "metadata": {
    "scrolled": true
   },
   "outputs": [],
   "source": [
    "# now we can remove missing data\n",
    "df1.dropna(subset=['Genres'], inplace=True)"
   ]
  },
  {
   "cell_type": "code",
   "execution_count": 30,
   "id": "96f61bf1",
   "metadata": {},
   "outputs": [
    {
     "data": {
      "text/plain": [
       "(57963, 7)"
      ]
     },
     "execution_count": 30,
     "metadata": {},
     "output_type": "execute_result"
    }
   ],
   "source": [
    "# check shape\n",
    "df1.shape"
   ]
  },
  {
   "cell_type": "code",
   "execution_count": 31,
   "id": "9164cc08",
   "metadata": {},
   "outputs": [],
   "source": [
    "# select subsection of df1 where avg_rating is greater than or equal to 4.3 (this is what the publishing company is looking for)\n",
    "df2 = df1[(df1['Avg_Rating'] >= 4.3)]"
   ]
  },
  {
   "cell_type": "code",
   "execution_count": 32,
   "id": "6512fcd5",
   "metadata": {
    "scrolled": false
   },
   "outputs": [
    {
     "data": {
      "text/plain": [
       "(8602, 7)"
      ]
     },
     "execution_count": 32,
     "metadata": {},
     "output_type": "execute_result"
    }
   ],
   "source": [
    "df2.shape"
   ]
  },
  {
   "cell_type": "code",
   "execution_count": 33,
   "id": "40c27f7f",
   "metadata": {
    "scrolled": false
   },
   "outputs": [
    {
     "name": "stderr",
     "output_type": "stream",
     "text": [
      "C:\\Users\\johan\\AppData\\Local\\Temp\\ipykernel_5940\\3108735582.py:1: SettingWithCopyWarning: \n",
      "A value is trying to be set on a copy of a slice from a DataFrame.\n",
      "Try using .loc[row_indexer,col_indexer] = value instead\n",
      "\n",
      "See the caveats in the documentation: https://pandas.pydata.org/pandas-docs/stable/user_guide/indexing.html#returning-a-view-versus-a-copy\n",
      "  df2[\"Num_Ratings\"] = df2[\"Num_Ratings\"].str.replace(',','')\n",
      "C:\\Users\\johan\\AppData\\Local\\Temp\\ipykernel_5940\\3108735582.py:2: SettingWithCopyWarning: \n",
      "A value is trying to be set on a copy of a slice from a DataFrame.\n",
      "Try using .loc[row_indexer,col_indexer] = value instead\n",
      "\n",
      "See the caveats in the documentation: https://pandas.pydata.org/pandas-docs/stable/user_guide/indexing.html#returning-a-view-versus-a-copy\n",
      "  df2[\"Num_Ratings\"] = df2[\"Num_Ratings\"].astype(int)\n"
     ]
    }
   ],
   "source": [
    "df2[\"Num_Ratings\"] = df2[\"Num_Ratings\"].str.replace(',','')\n",
    "df2[\"Num_Ratings\"] = df2[\"Num_Ratings\"].astype(int)"
   ]
  },
  {
   "cell_type": "code",
   "execution_count": 34,
   "id": "2bc6fbbc",
   "metadata": {},
   "outputs": [],
   "source": [
    "# select where num_ratings is greater than 100 (i.e., statistically significant)\n",
    "df3 = df2[(df2['Num_Ratings'] >= 100)]"
   ]
  },
  {
   "cell_type": "code",
   "execution_count": 35,
   "id": "66895aa9",
   "metadata": {},
   "outputs": [
    {
     "data": {
      "text/plain": [
       "(7911, 7)"
      ]
     },
     "execution_count": 35,
     "metadata": {},
     "output_type": "execute_result"
    }
   ],
   "source": [
    "df3.shape"
   ]
  },
  {
   "cell_type": "code",
   "execution_count": 36,
   "id": "2d350b5b",
   "metadata": {
    "scrolled": true
   },
   "outputs": [
    {
     "data": {
      "text/plain": [
       "Fiction               719\n",
       "Nonfiction            375\n",
       "Fantasy               370\n",
       "Classics              265\n",
       "Young Adult           206\n",
       "Romance               203\n",
       "Historical Fiction    193\n",
       "Audiobook             180\n",
       "History               175\n",
       "Contemporary          164\n",
       "Historical            144\n",
       "Novels                140\n",
       "Biography             130\n",
       "Adventure             128\n",
       "Childrens             118\n",
       "Literature            102\n",
       "Adult                 102\n",
       "Religion              101\n",
       "Memoir                 97\n",
       "Philosophy             96\n",
       "War                    84\n",
       "Science Fiction        82\n",
       "Mystery                82\n",
       "Drama                  81\n",
       "Politics               80\n",
       "Name: Genres, dtype: int64"
      ]
     },
     "execution_count": 36,
     "metadata": {},
     "output_type": "execute_result"
    }
   ],
   "source": [
    "# display top 25 most common genres\n",
    "df3_top25 = df3['Genres'].value_counts().head(25)\n",
    "df3_top25"
   ]
  },
  {
   "cell_type": "code",
   "execution_count": 37,
   "id": "84b28590",
   "metadata": {},
   "outputs": [
    {
     "data": {
      "text/html": [
       "<div>\n",
       "<style scoped>\n",
       "    .dataframe tbody tr th:only-of-type {\n",
       "        vertical-align: middle;\n",
       "    }\n",
       "\n",
       "    .dataframe tbody tr th {\n",
       "        vertical-align: top;\n",
       "    }\n",
       "\n",
       "    .dataframe thead th {\n",
       "        text-align: right;\n",
       "    }\n",
       "</style>\n",
       "<table border=\"1\" class=\"dataframe\">\n",
       "  <thead>\n",
       "    <tr style=\"text-align: right;\">\n",
       "      <th></th>\n",
       "      <th>Count</th>\n",
       "      <th>Genres</th>\n",
       "    </tr>\n",
       "  </thead>\n",
       "  <tbody>\n",
       "    <tr>\n",
       "      <th>Fiction</th>\n",
       "      <td>719</td>\n",
       "      <td>Fiction</td>\n",
       "    </tr>\n",
       "    <tr>\n",
       "      <th>Nonfiction</th>\n",
       "      <td>375</td>\n",
       "      <td>Nonfiction</td>\n",
       "    </tr>\n",
       "    <tr>\n",
       "      <th>Fantasy</th>\n",
       "      <td>370</td>\n",
       "      <td>Fantasy</td>\n",
       "    </tr>\n",
       "    <tr>\n",
       "      <th>Classics</th>\n",
       "      <td>265</td>\n",
       "      <td>Classics</td>\n",
       "    </tr>\n",
       "    <tr>\n",
       "      <th>Young Adult</th>\n",
       "      <td>206</td>\n",
       "      <td>Young Adult</td>\n",
       "    </tr>\n",
       "    <tr>\n",
       "      <th>Romance</th>\n",
       "      <td>203</td>\n",
       "      <td>Romance</td>\n",
       "    </tr>\n",
       "    <tr>\n",
       "      <th>Historical Fiction</th>\n",
       "      <td>193</td>\n",
       "      <td>Historical Fiction</td>\n",
       "    </tr>\n",
       "    <tr>\n",
       "      <th>Audiobook</th>\n",
       "      <td>180</td>\n",
       "      <td>Audiobook</td>\n",
       "    </tr>\n",
       "    <tr>\n",
       "      <th>History</th>\n",
       "      <td>175</td>\n",
       "      <td>History</td>\n",
       "    </tr>\n",
       "    <tr>\n",
       "      <th>Contemporary</th>\n",
       "      <td>164</td>\n",
       "      <td>Contemporary</td>\n",
       "    </tr>\n",
       "    <tr>\n",
       "      <th>Historical</th>\n",
       "      <td>144</td>\n",
       "      <td>Historical</td>\n",
       "    </tr>\n",
       "    <tr>\n",
       "      <th>Novels</th>\n",
       "      <td>140</td>\n",
       "      <td>Novels</td>\n",
       "    </tr>\n",
       "    <tr>\n",
       "      <th>Biography</th>\n",
       "      <td>130</td>\n",
       "      <td>Biography</td>\n",
       "    </tr>\n",
       "    <tr>\n",
       "      <th>Adventure</th>\n",
       "      <td>128</td>\n",
       "      <td>Adventure</td>\n",
       "    </tr>\n",
       "    <tr>\n",
       "      <th>Childrens</th>\n",
       "      <td>118</td>\n",
       "      <td>Childrens</td>\n",
       "    </tr>\n",
       "    <tr>\n",
       "      <th>Literature</th>\n",
       "      <td>102</td>\n",
       "      <td>Literature</td>\n",
       "    </tr>\n",
       "    <tr>\n",
       "      <th>Adult</th>\n",
       "      <td>102</td>\n",
       "      <td>Adult</td>\n",
       "    </tr>\n",
       "    <tr>\n",
       "      <th>Religion</th>\n",
       "      <td>101</td>\n",
       "      <td>Religion</td>\n",
       "    </tr>\n",
       "    <tr>\n",
       "      <th>Memoir</th>\n",
       "      <td>97</td>\n",
       "      <td>Memoir</td>\n",
       "    </tr>\n",
       "    <tr>\n",
       "      <th>Philosophy</th>\n",
       "      <td>96</td>\n",
       "      <td>Philosophy</td>\n",
       "    </tr>\n",
       "    <tr>\n",
       "      <th>War</th>\n",
       "      <td>84</td>\n",
       "      <td>War</td>\n",
       "    </tr>\n",
       "    <tr>\n",
       "      <th>Science Fiction</th>\n",
       "      <td>82</td>\n",
       "      <td>Science Fiction</td>\n",
       "    </tr>\n",
       "    <tr>\n",
       "      <th>Mystery</th>\n",
       "      <td>82</td>\n",
       "      <td>Mystery</td>\n",
       "    </tr>\n",
       "    <tr>\n",
       "      <th>Drama</th>\n",
       "      <td>81</td>\n",
       "      <td>Drama</td>\n",
       "    </tr>\n",
       "    <tr>\n",
       "      <th>Politics</th>\n",
       "      <td>80</td>\n",
       "      <td>Politics</td>\n",
       "    </tr>\n",
       "  </tbody>\n",
       "</table>\n",
       "</div>"
      ],
      "text/plain": [
       "                    Count              Genres\n",
       "Fiction               719             Fiction\n",
       "Nonfiction            375          Nonfiction\n",
       "Fantasy               370             Fantasy\n",
       "Classics              265            Classics\n",
       "Young Adult           206         Young Adult\n",
       "Romance               203             Romance\n",
       "Historical Fiction    193  Historical Fiction\n",
       "Audiobook             180           Audiobook\n",
       "History               175             History\n",
       "Contemporary          164        Contemporary\n",
       "Historical            144          Historical\n",
       "Novels                140              Novels\n",
       "Biography             130           Biography\n",
       "Adventure             128           Adventure\n",
       "Childrens             118           Childrens\n",
       "Literature            102          Literature\n",
       "Adult                 102               Adult\n",
       "Religion              101            Religion\n",
       "Memoir                 97              Memoir\n",
       "Philosophy             96          Philosophy\n",
       "War                    84                 War\n",
       "Science Fiction        82     Science Fiction\n",
       "Mystery                82             Mystery\n",
       "Drama                  81               Drama\n",
       "Politics               80            Politics"
      ]
     },
     "execution_count": 37,
     "metadata": {},
     "output_type": "execute_result"
    }
   ],
   "source": [
    "# make the above a dataframe for plotting\n",
    "df3_top25 = pd.DataFrame(df3_top25)\n",
    "# rename column displaying value counts from Genres to Count\n",
    "df3_top25 = df3_top25.rename(columns={'Genres': 'Count'})\n",
    "# set the index displaying genre names as a column to be accessed in plot\n",
    "df3_top25['Genres']=df3_top25.index\n",
    "df3_top25"
   ]
  },
  {
   "cell_type": "code",
   "execution_count": 38,
   "id": "f74e8d68",
   "metadata": {},
   "outputs": [
    {
     "data": {
      "image/png": "[encoded data removed]",
      "text/plain": [
       "<Figure size 1000x700 with 1 Axes>"
      ]
     },
     "metadata": {},
     "output_type": "display_data"
    }
   ],
   "source": [
    "# plot this\n",
    "fig = plt.figure(figsize =(10, 7))\n",
    "sns.set_style(\"whitegrid\")\n",
    "sns.barplot(x='Genres', y='Count', data=df3_top25).set(title=\"Count of Top 25 Highest Rated Genres\")\n",
    "plt.xticks(rotation=90)\n",
    "plt.show()"
   ]
  },
  {
   "cell_type": "code",
   "execution_count": 39,
   "id": "6f6b9f3f",
   "metadata": {
    "scrolled": true
   },
   "outputs": [
    {
     "data": {
      "text/plain": [
       "Author\n",
       "Anonymous             110\n",
       "Rick Riordan          105\n",
       "Cassandra Clare        70\n",
       "George R.R. Martin     63\n",
       "Sarah J. Maas          63\n",
       "Kirsten Fullmer        60\n",
       "Stephen King           56\n",
       "Brandon Sanderson      56\n",
       "J.K. Rowling           56\n",
       "Misba                  52\n",
       "James Herriot          51\n",
       "Jim Butcher            49\n",
       "Suzanne Collins        49\n",
       "J.R.R. Tolkien         49\n",
       "Terry Pratchett        49\n",
       "Richelle Mead          49\n",
       "dtype: int64"
      ]
     },
     "execution_count": 39,
     "metadata": {},
     "output_type": "execute_result"
    }
   ],
   "source": [
    "# make group of top authors in this dataset\n",
    "top_authors = df3.groupby('Author').size().sort_values(ascending=False).head(16)\n",
    "top_authors"
   ]
  },
  {
   "cell_type": "code",
   "execution_count": 40,
   "id": "f9544599",
   "metadata": {},
   "outputs": [
    {
     "data": {
      "text/plain": [
       "Author\n",
       "Rick Riordan          105\n",
       "Cassandra Clare        70\n",
       "George R.R. Martin     63\n",
       "Sarah J. Maas          63\n",
       "Kirsten Fullmer        60\n",
       "Stephen King           56\n",
       "Brandon Sanderson      56\n",
       "J.K. Rowling           56\n",
       "Misba                  52\n",
       "James Herriot          51\n",
       "Jim Butcher            49\n",
       "Suzanne Collins        49\n",
       "J.R.R. Tolkien         49\n",
       "Terry Pratchett        49\n",
       "Richelle Mead          49\n",
       "dtype: int64"
      ]
     },
     "execution_count": 40,
     "metadata": {},
     "output_type": "execute_result"
    }
   ],
   "source": [
    "# anonymous doesn't do anything for us, so let's drop\n",
    "top_authors = top_authors.iloc[1:16]\n",
    "top_authors"
   ]
  },
  {
   "cell_type": "code",
   "execution_count": 49,
   "id": "b2e95dbf",
   "metadata": {},
   "outputs": [
    {
     "data": {
      "image/png": "[encoded data removed]",
      "text/plain": [
       "<Figure size 1000x700 with 1 Axes>"
      ]
     },
     "metadata": {},
     "output_type": "display_data"
    }
   ],
   "source": [
    "# create a bar chart of the most frequent 15 authors from the cleaned dataframe\n",
    "fig, ax = plt.subplots(figsize=(10,7))\n",
    "\n",
    "ax.bar(top_authors.index, top_authors.values, color=colors)\n",
    "\n",
    "ax.set_title('Top 15 Authors of Highest Rated Books', fontsize=16)\n",
    "ax.set_xlabel('Author', fontsize=14)\n",
    "ax.set_ylabel('Number of Books', fontsize=14)\n",
    "\n",
    "plt.xticks(rotation=45, ha='right')\n",
    "\n",
    "plt.show()"
   ]
  }
 ],
 "metadata": {
  "kernelspec": {
   "display_name": "Python 3 (ipykernel)",
   "language": "python",
   "name": "python3"
  },
  "language_info": {
   "codemirror_mode": {
    "name": "ipython",
    "version": 3
   },
   "file_extension": ".py",
   "mimetype": "text/x-python",
   "name": "python",
   "nbconvert_exporter": "python",
   "pygments_lexer": "ipython3",
   "version": "3.10.9"
  }
 },
 "nbformat": 4,
 "nbformat_minor": 5
}
